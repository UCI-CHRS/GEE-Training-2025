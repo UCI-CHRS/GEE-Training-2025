{
  "nbformat": 4,
  "nbformat_minor": 0,
  "metadata": {
    "colab": {
      "provenance": [],
      "include_colab_link": true
    },
    "kernelspec": {
      "name": "python3",
      "display_name": "Python 3"
    },
    "language_info": {
      "name": "python"
    }
  },
  "cells": [
    {
      "cell_type": "markdown",
      "metadata": {
        "id": "view-in-github",
        "colab_type": "text"
      },
      "source": [
        "<a href=\"https://colab.research.google.com/github/UCI-CHRS/GEE-Training-2025/blob/main/notebooks/Tutorial03_TWSA.ipynb\" target=\"_parent\"><img src=\"https://colab.research.google.com/assets/colab-badge.svg\" alt=\"Open In Colab\"/></a>"
      ]
    },
    {
      "cell_type": "markdown",
      "source": [
        "<center>  \n",
        "\n",
        "\n",
        "# **Changes at the basin scale**  \n",
        "### **PEER2PEER GEE Training**  \n",
        "**Developed by:** Debora Yumi de Oliveira<sup>1,2</sup>, Annika Hjelmstad<sup>1</sup>,  Muhammad Umar Akbar<sup>3</sup>, Kasra Khodkar<sup>3</sup>\n",
        "\n",
        "**Affiliation:**\n",
        "\n",
        "<sup>1</sup>Department of Civil and Environmental Engineering, University of California at Irvine, Irvine, USA  \n",
        "<sup>2</sup>Mackenzie Presbyterian University, São Paulo, Brazil  \n",
        "<sup>3</sup>Department of Biosystems and Agricultural Engineering, Oklahoma State University, Stillwater, USA  \n",
        "\n",
        "</center>\n",
        "\n",
        "---\n",
        "\n",
        "## **Introduction**\n",
        "\n",
        "Welcome to this Google Earth Engine (GEE) training notebook! In this tutorial, we will work with the [GRACE Monthly Mass Grids](https://developers.google.com/earth-engine/datasets/catalog/NASA_GRACE_MASS_GRIDS_V04_LAND) in the Google Earth Engine data catalog to explore changes in the total terrestrial water storage anomalies. This dataset is produced by three centers: CSR (U. Texas / Center for Space Research), GFZ (GeoForschungsZentrum Potsdam), and JPL (NASA Jet Propulsion Laboratory). We will explore the output provided by each center and compute basin-averaged values using basin boundaries of the [HydroSHEDS database](https://www.hydrosheds.org/).\n",
        "\n",
        "---"
      ],
      "metadata": {
        "id": "LXvvwN7l_TQX"
      }
    },
    {
      "cell_type": "markdown",
      "source": [
        "First, we will install all necessary Python modules:"
      ],
      "metadata": {
        "id": "3DZspU4G_wGJ"
      }
    },
    {
      "cell_type": "code",
      "source": [
        "!pip install geemap matplotlib pandas numpy scipy"
      ],
      "metadata": {
        "id": "wInBjyJm_0rX",
        "collapsed": true
      },
      "execution_count": null,
      "outputs": []
    },
    {
      "cell_type": "markdown",
      "source": [
        "Next, we need to import the Python modules we will use and authenticate and initialize with the Google Cloud project we created previously."
      ],
      "metadata": {
        "id": "RipqZxV1_3Yy"
      }
    },
    {
      "cell_type": "code",
      "source": [
        "# Import necessary Python modules\n",
        "import ee                        # ee provides functions for sending requests to the GEE servers\n",
        "import geemap                    # geemap is for mapping ee objects\n",
        "import matplotlib.pyplot as plt  # matplotlib is a general Python plotting module\n",
        "from matplotlib import gridspec\n",
        "import pandas as pd              # pandas is a Python module for handling dataframes\n",
        "import numpy as np               # numpy is a Python module for working with arrays and matrices\n",
        "import scipy.stats               # scipy is a Python module that provides common algorithms in math and science\n",
        "\n",
        "# Authenticate and initialize with your google cloud project\n",
        "ee.Authenticate()\n",
        "ee.Initialize(project='annikas-tutorial')  # replace the project with your own project ID"
      ],
      "metadata": {
        "id": "50sYhRCR_6Q6"
      },
      "execution_count": null,
      "outputs": []
    },
    {
      "cell_type": "markdown",
      "source": [
        "Now we're ready to read in the data. We use `ee.ImageCollection` to read the monthly dataset."
      ],
      "metadata": {
        "id": "iI5xO4rBBNRm"
      }
    },
    {
      "cell_type": "code",
      "source": [
        "# Read monthly water mass anomalies image collection\n",
        "twsa_monthly = ee.ImageCollection(\"NASA/GRACE/MASS_GRIDS_V04/LAND\")\n",
        "\n",
        "# Read watersheds feature collection\n",
        "basins = (ee.FeatureCollection('WWF/HydroSHEDS/v1/Basins/hybas_2')\n",
        "    # Filter to the continental US.\n",
        "    # .filterBounds(ee.Geometry.Rectangle(-127.18, 25.39, -90.75, 41.29))\n",
        "    )"
      ],
      "metadata": {
        "id": "KeNzo2RJBOv3"
      },
      "execution_count": null,
      "outputs": []
    },
    {
      "cell_type": "markdown",
      "source": [
        "# 1. Inspect Monthly TWSA dataset\n",
        "\n",
        "Let's see what's in the image collection. (Click on the dropdown arrows after running the following cell.)"
      ],
      "metadata": {
        "id": "Ovnujb73ByRB"
      }
    },
    {
      "cell_type": "code",
      "source": [
        "twsa_monthly  # this will print out information about the variable"
      ],
      "metadata": {
        "id": "rv7g-gsbCCBV"
      },
      "execution_count": null,
      "outputs": []
    },
    {
      "cell_type": "code",
      "source": [
        "def plot_twsa(image, title, existing_map=None):\n",
        "\n",
        "    if existing_map is None:\n",
        "        Map = geemap.Map()  # Initialize map object if we don't already have one\n",
        "    else:\n",
        "        Map = existing_map\n",
        "    vis_params = {\n",
        "        'palette': ['ff0303', 'ffffff', '0300ff'],\n",
        "        'min': -1, 'max': 1\n",
        "    }  # Set the color scale for the map\n",
        "    Map.addLayer(image, vis_params, title, False)  # Add the layer to our map object.\n",
        "    if existing_map is None:\n",
        "            Map.add_colorbar(\n",
        "            vis_params,\n",
        "            label=\"Equivalent Water Thickness (cm)\",\n",
        "            orientation=\"vertical\",\n",
        "            position=\"bottomleft\",\n",
        "            transparent_bg=True,\n",
        "        )  # Add legend as a vertical colorbar\n",
        "    return Map\n",
        "\n",
        "# Map one month: CSR\n",
        "csr = ee.Image('NASA/GRACE/MASS_GRIDS_V04/LAND/20170409_20170508').select('lwe_thickness_csr');\n",
        "Map = plot_twsa(csr, \"CSR\")\n",
        "\n",
        "# Map one month: GFZ\n",
        "gfz = ee.Image('NASA/GRACE/MASS_GRIDS_V04/LAND/20170409_20170508').select('lwe_thickness_gfz');\n",
        "plot_twsa(gfz, \"GFZ\", Map)\n",
        "\n",
        "# Map one month: JPL\n",
        "jpl = ee.Image('NASA/GRACE/MASS_GRIDS_V04/LAND/20170409_20170508').select('lwe_thickness_jpl');\n",
        "plot_twsa(jpl, \"JPL\", Map)"
      ],
      "metadata": {
        "id": "_KImg9A4CwU9"
      },
      "execution_count": null,
      "outputs": []
    },
    {
      "cell_type": "markdown",
      "source": [
        "# 2. Inspect HydroBASINS dataset\n",
        "\n",
        "Let's see what's in the feature collection."
      ],
      "metadata": {
        "id": "Shw3b8LD5hsi"
      }
    },
    {
      "cell_type": "code",
      "source": [
        "# Fetch collection metadata (`.limit(0)`). The printed object is a\n",
        "# dictionary where keys are column names and values are datatypes.\n",
        "basins.limit(0).getInfo()['columns']"
      ],
      "metadata": {
        "id": "zHL6qhoMbWHn"
      },
      "execution_count": null,
      "outputs": []
    },
    {
      "cell_type": "code",
      "source": [
        "# Print the number of basins\n",
        "display('Count:', basins.size())"
      ],
      "metadata": {
        "id": "DuprgqS1bHLH"
      },
      "execution_count": null,
      "outputs": []
    },
    {
      "cell_type": "code",
      "source": [
        "selected_basin = basins.filter('HYBAS_ID == 7020046750')"
      ],
      "metadata": {
        "id": "WxxZJ-6My3DP"
      },
      "execution_count": null,
      "outputs": []
    },
    {
      "cell_type": "code",
      "source": [
        "# Display selected basin\n",
        "Map.addLayer(selected_basin, {'color': '#008000'}, 'Basins')\n",
        "Map"
      ],
      "metadata": {
        "id": "KMEpUqYj59L9"
      },
      "execution_count": null,
      "outputs": []
    },
    {
      "cell_type": "code",
      "source": [
        "def get_twsa_mean(image, geometry, property):\n",
        "    \"\"\"Sets TWSA mean as as a property of the image\n",
        "    ---\n",
        "    Params:\n",
        "        image (ee.Image)\n",
        "        geometry (ee.Geometry):\n",
        "            Region of interest\n",
        "    Returns:\n",
        "        ee.Image:\n",
        "            Same as the input image, but with a band 'area' equal to the sum of\n",
        "            the surface water area\n",
        "    \"\"\"\n",
        "\n",
        "    # The input feature collection is returned with new properties appended.\n",
        "    # The new properties are the outcome of the region reduction per image band,\n",
        "    # for each feature in the collection. Region reduction property names\n",
        "    # are the same as the input image band names.\n",
        "    twsa_mean = (\n",
        "        image.reduceRegion(\n",
        "                          reducer=ee.Reducer.mean(),\n",
        "                          geometry=geometry,\n",
        "                          scale=111320,\n",
        "                          tileScale=1\n",
        "                          )\n",
        "            .get(property)\n",
        "    )\n",
        "    return image.set('date', image.date().format()).set('twsa_mean', twsa_mean)"
      ],
      "metadata": {
        "id": "RT9nmfdzpa_i"
      },
      "execution_count": null,
      "outputs": []
    },
    {
      "cell_type": "code",
      "source": [
        "def get_values_from_ee(image_collection, geometry, property):\n",
        "    \"\"\" Get ee TWSA time series values into a local Pandas dataframe\n",
        "    ---\n",
        "    Params:\n",
        "        image_collection (ee.ImageCollection)\n",
        "        roi (ee.Geometry)\n",
        "    Returns:\n",
        "        pd.DataFrame:\n",
        "            Table with a datetime index and TWSA values\n",
        "    \"\"\"\n",
        "    # Apply the get_twsa_mean function to each image\n",
        "    twsa = image_collection.map(lambda image: get_twsa_mean(image,geometry,property))\n",
        "    values = twsa.reduceColumns(\n",
        "        ee.Reducer.toList(2), ['date', 'twsa_mean']\n",
        "    ).values().get(0)  # Reduces the images properties to a list of lists\n",
        "    lista = ee.List(values)  # Type casts the result into a List\n",
        "    water_areas = ee.Dictionary(lista.flatten())  # Converts the list of lists to a Dictionary\n",
        "    # This is where we call getInfo()\n",
        "    areas = pd.DataFrame.from_dict(water_areas.getInfo(), orient='index', columns=['twsa_mean'])\n",
        "    # Now that we have a python object, represent dates as Python datetimes\n",
        "    areas.index = pd.to_datetime(areas.index)\n",
        "    return areas"
      ],
      "metadata": {
        "id": "ot78a9gyD6rl"
      },
      "execution_count": null,
      "outputs": []
    },
    {
      "cell_type": "code",
      "source": [
        "twsa_csr = get_values_from_ee(twsa_monthly.select('lwe_thickness_csr'),  selected_basin, 'lwe_thickness_csr')\n",
        "twsa_gfz = get_values_from_ee(twsa_monthly.select('lwe_thickness_gfz'),  selected_basin, 'lwe_thickness_gfz')\n",
        "twsa_jpl = get_values_from_ee(twsa_monthly.select('lwe_thickness_jpl'),  selected_basin, 'lwe_thickness_jpl')"
      ],
      "metadata": {
        "id": "6hc3d916DNYG"
      },
      "execution_count": null,
      "outputs": []
    },
    {
      "cell_type": "code",
      "source": [
        "twsa_csr"
      ],
      "metadata": {
        "id": "JsWYOOieGYvx"
      },
      "execution_count": null,
      "outputs": []
    },
    {
      "source": [
        "from matplotlib import pyplot as plt\n",
        "twsa_csr['twsa_mean'].plot(kind='line', figsize=(8, 4), label='CSR')\n",
        "twsa_gfz['twsa_mean'].plot(kind='line', figsize=(8, 4), label='GFZ')\n",
        "twsa_jpl['twsa_mean'].plot(kind='line', figsize=(8, 4), label='JPL')\n",
        "plt.ylabel('Basin-averaged TWSA (cm)')\n",
        "plt.legend()\n",
        "plt.gca().spines[['top', 'right']].set_visible(False)"
      ],
      "cell_type": "code",
      "metadata": {
        "id": "_KR6mun9SKM-"
      },
      "execution_count": null,
      "outputs": []
    },
    {
      "cell_type": "code",
      "source": [
        "selected_basin2 = jpl.reduceRegions(\n",
        "                          collection=selected_basin,\n",
        "                          reducer=ee.Reducer.mean(),\n",
        "                          scale=111320,\n",
        "                          tileScale=1\n",
        "                          )"
      ],
      "metadata": {
        "id": "T1YCpqwAAU3x"
      },
      "execution_count": null,
      "outputs": []
    },
    {
      "cell_type": "code",
      "source": [
        "# Create an empty image into which to paint the features, cast to byte.\n",
        "empty = ee.Image().byte()\n",
        "\n",
        "# Paint all the polygon edges with the same number and width, display.\n",
        "fills = empty.paint(featureCollection=selected_basin2, color='mean')\n",
        "\n",
        "vis_params = {\n",
        "        'palette': ['ff0303', 'ffffff', '0300ff'],\n",
        "        'min': -1, 'max': 1\n",
        "    }  # Set the color scale for the map\n",
        "\n",
        "Map.addLayer(fills, vis_params, 'TWSA')\n",
        "\n",
        "Map"
      ],
      "metadata": {
        "id": "yhnFcN5I8xgp"
      },
      "execution_count": null,
      "outputs": []
    },
    {
      "cell_type": "code",
      "source": [
        "selected_basin2.limit(0).getInfo()['columns']"
      ],
      "metadata": {
        "id": "ua_Ab9AFAizd"
      },
      "execution_count": null,
      "outputs": []
    }
  ]
}