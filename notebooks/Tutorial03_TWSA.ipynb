{
  "nbformat": 4,
  "nbformat_minor": 0,
  "metadata": {
    "colab": {
      "provenance": [],
      "toc_visible": true,
      "include_colab_link": true
    },
    "kernelspec": {
      "name": "python3",
      "display_name": "Python 3"
    },
    "language_info": {
      "name": "python"
    }
  },
  "cells": [
    {
      "cell_type": "markdown",
      "metadata": {
        "id": "view-in-github",
        "colab_type": "text"
      },
      "source": [
        "<a href=\"https://colab.research.google.com/github/UCI-CHRS/GEE-Training-2025/blob/main/notebooks/Tutorial03_TWSA.ipynb\" target=\"_parent\"><img src=\"https://colab.research.google.com/assets/colab-badge.svg\" alt=\"Open In Colab\"/></a>"
      ]
    },
    {
      "cell_type": "markdown",
      "source": [
        "<center>  \n",
        "\n",
        "\n",
        "# **Water storage changes at the basin scale**  \n",
        "### **PEER2PEER GEE Training**  \n",
        "**Developed by:** Debora Yumi de Oliveira<sup>1,2</sup>, Annika Hjelmstad<sup>1</sup>,  Muhammad Umar Akbar<sup>3</sup>, Kasra Khodkar<sup>3</sup>\n",
        "\n",
        "**Affiliation:**\n",
        "<sup>1</sup>Department of Civil and Environmental Engineering, University of California at Irvine, Irvine, USA  \n",
        "<sup>2</sup>Mackenzie Presbyterian University, São Paulo, Brazil  \n",
        "<sup>3</sup>Department of Biosystems and Agricultural Engineering, Oklahoma State University, Stillwater, USA  \n",
        "\n",
        "</center>\n",
        "\n",
        "---\n",
        "\n",
        "## **Introduction**\n",
        "\n",
        "Welcome to this Google Earth Engine (GEE) training notebook! In this tutorial, we will work with the [GRACE Monthly Mass Grids](https://developers.google.com/earth-engine/datasets/catalog/NASA_GRACE_MASS_GRIDS_V04_LAND) in the Google Earth Engine data catalog to explore changes in the total terrestrial water storage anomalies. This dataset is produced by three centers:\n",
        "* CSR (U. Texas / Center for Space Research),\n",
        "* GFZ (GeoForschungsZentrum Potsdam), and\n",
        "* JPL (NASA Jet Propulsion Laboratory).\n",
        "\n",
        "We will explore the output provided by each center and compute basin-averaged values using basin boundaries of the [HydroSHEDS database](https://www.hydrosheds.org/).\n",
        "\n",
        "---"
      ],
      "metadata": {
        "id": "LXvvwN7l_TQX"
      }
    },
    {
      "cell_type": "markdown",
      "source": [
        "First, we will install all necessary Python modules:"
      ],
      "metadata": {
        "id": "3DZspU4G_wGJ"
      }
    },
    {
      "cell_type": "code",
      "source": [
        "!pip install geemap matplotlib pandas numpy scipy"
      ],
      "metadata": {
        "id": "wInBjyJm_0rX",
        "collapsed": true
      },
      "execution_count": null,
      "outputs": []
    },
    {
      "cell_type": "markdown",
      "source": [
        "Next, we need to import the Python modules we will use and authenticate and initialize with the Google Cloud project we created previously."
      ],
      "metadata": {
        "id": "RipqZxV1_3Yy"
      }
    },
    {
      "cell_type": "code",
      "source": [
        "# Import necessary Python modules\n",
        "import ee                        # ee provides functions for sending requests to the GEE servers\n",
        "import geemap                    # geemap is for mapping ee objects\n",
        "import matplotlib.pyplot as plt  # matplotlib is a general Python plotting module\n",
        "from matplotlib import gridspec\n",
        "import pandas as pd              # pandas is a Python module for handling dataframes\n",
        "import numpy as np               # numpy is a Python module for working with arrays and matrices\n",
        "import scipy.stats               # scipy is a Python module that provides common algorithms in math and science\n",
        "\n",
        "# Authenticate and initialize with your google cloud project\n",
        "ee.Authenticate()\n",
        "ee.Initialize(project='annikas-tutorial')  # replace the project with your own project ID"
      ],
      "metadata": {
        "id": "50sYhRCR_6Q6"
      },
      "execution_count": null,
      "outputs": []
    },
    {
      "cell_type": "markdown",
      "source": [
        "Now we're ready to read in the data. We use `ee.ImageCollection` to read the monthly dataset and `ee.FeatureColletion` to read the basin boundaries."
      ],
      "metadata": {
        "id": "iI5xO4rBBNRm"
      }
    },
    {
      "cell_type": "code",
      "source": [
        "# Read monthly water mass anomalies image collection\n",
        "twsa_monthly = ee.ImageCollection(\"NASA/GRACE/MASS_GRIDS_V04/LAND\")\n",
        "\n",
        "# Read watersheds feature collection\n",
        "basins_africa = (ee.FeatureCollection('WWF/HydroSHEDS/v1/Basins/hybas_2')\n",
        "    # Filter to Africa\n",
        "    .filterBounds(ee.Geometry.Rectangle(-17, -35, 52, 25))\n",
        "    )"
      ],
      "metadata": {
        "id": "KeNzo2RJBOv3"
      },
      "execution_count": null,
      "outputs": []
    },
    {
      "cell_type": "markdown",
      "source": [
        "## Inspect monthly TWSA dataset\n",
        "\n",
        "Let's see what's in the image collection. (Click on the dropdown arrows after running the following cell.)"
      ],
      "metadata": {
        "id": "Ovnujb73ByRB"
      }
    },
    {
      "cell_type": "code",
      "source": [
        "twsa_monthly  # this will print out information about the variable"
      ],
      "metadata": {
        "id": "rv7g-gsbCCBV"
      },
      "execution_count": null,
      "outputs": []
    },
    {
      "cell_type": "code",
      "source": [
        "twsa_monthly"
      ],
      "metadata": {
        "id": "0dMle6L4OvaD"
      },
      "execution_count": null,
      "outputs": []
    },
    {
      "cell_type": "code",
      "source": [
        "def plot_twsa(image, title, existing_map=None):\n",
        "\n",
        "    if existing_map is None:\n",
        "        Map = geemap.Map()  # Initialize map object if we don't already have one\n",
        "    else:\n",
        "        Map = existing_map\n",
        "    vis_params = {\n",
        "        'palette': ['ff0303', 'ffffff', '0300ff'],\n",
        "        'min': -1, 'max': 1\n",
        "    }  # Set the color scale for the map\n",
        "    Map.addLayer(image, vis_params, title, False)  # Add the layer to our map object.\n",
        "    if existing_map is None:\n",
        "            Map.add_colorbar(\n",
        "            vis_params,\n",
        "            label=\"Equivalent Water Thickness (cm)\",\n",
        "            orientation=\"vertical\",\n",
        "            position=\"bottomleft\",\n",
        "            transparent_bg=True,\n",
        "        )  # Add legend as a vertical colorbar\n",
        "    return Map\n",
        "\n",
        "# Map one month: CSR\n",
        "csr = ee.Image('NASA/GRACE/MASS_GRIDS_V04/LAND/20170409_20170508').select('lwe_thickness_csr');\n",
        "Map = plot_twsa(csr, \"CSR\")\n",
        "\n",
        "# Map one month: GFZ\n",
        "gfz = ee.Image('NASA/GRACE/MASS_GRIDS_V04/LAND/20170409_20170508').select('lwe_thickness_gfz');\n",
        "plot_twsa(gfz, \"GFZ\", Map)\n",
        "\n",
        "# Map one month: JPL\n",
        "jpl = ee.Image('NASA/GRACE/MASS_GRIDS_V04/LAND/20170409_20170508').select('lwe_thickness_jpl');\n",
        "plot_twsa(jpl, \"JPL\", Map)"
      ],
      "metadata": {
        "id": "_KImg9A4CwU9"
      },
      "execution_count": null,
      "outputs": []
    },
    {
      "cell_type": "markdown",
      "source": [
        "## Inspect HydroBASINS dataset\n",
        "\n",
        "Let's see what's in the feature collection."
      ],
      "metadata": {
        "id": "Shw3b8LD5hsi"
      }
    },
    {
      "cell_type": "code",
      "source": [
        "# Fetch collection metadata (`.limit(0)`). The printed object is a\n",
        "# dictionary where keys are column names and values are datatypes.\n",
        "basins_africa.limit(0).getInfo()['columns']"
      ],
      "metadata": {
        "id": "zHL6qhoMbWHn"
      },
      "execution_count": null,
      "outputs": []
    },
    {
      "cell_type": "code",
      "source": [
        "# Print the number of basins\n",
        "display('Number of basins', basins_africa.size())"
      ],
      "metadata": {
        "id": "DuprgqS1bHLH"
      },
      "execution_count": null,
      "outputs": []
    },
    {
      "cell_type": "code",
      "source": [
        "# Display selected basins\n",
        "Map = geemap.Map()\n",
        "Map.centerObject(basins_africa, 3)\n",
        "Map.addLayer(basins_africa, {'color': '808080'}, 'Basins')\n",
        "Map"
      ],
      "metadata": {
        "id": "A330eZKOM4Na"
      },
      "execution_count": null,
      "outputs": []
    },
    {
      "cell_type": "markdown",
      "source": [
        "## Part 1. Spatial patterns of water storage\n",
        "\n",
        "In this first part of the tutorial, we will compute basin-averaged values and examine the spatial distribution of water storage at a specific point in time."
      ],
      "metadata": {
        "id": "6teBiQPPZpKA"
      }
    },
    {
      "cell_type": "markdown",
      "source": [
        "\n",
        "\n",
        "Let's first create a function to compute basin-averaged values and evaluate it for April 2017:"
      ],
      "metadata": {
        "id": "hSWHgRuY5Sr2"
      }
    },
    {
      "cell_type": "code",
      "source": [
        "def get_twsa_mean(image, collection):\n",
        "    \"\"\"Sets TWSA mean as as a property of each feature in the given collection\n",
        "    ---\n",
        "    Params:\n",
        "        image:\n",
        "            The image to reduce.\n",
        "        collection:\n",
        "            The features to reduce over.\n",
        "    Returns:\n",
        "        collection:\n",
        "            Same as the input feature collection, but with a property 'mean'\n",
        "            equal to the basin-averaged value.\n",
        "    \"\"\"\n",
        "\n",
        "    # Apply a reducer over the area of each feature in the given collection\n",
        "    basins = (\n",
        "            image.reduceRegions(\n",
        "                collection=basins_africa,\n",
        "                reducer=ee.Reducer.mean(),\n",
        "                scale=111320,\n",
        "                tileScale=1\n",
        "              )\n",
        "    )\n",
        "    return basins\n",
        "\n",
        "# Map one month: CSR\n",
        "csr = ee.Image('NASA/GRACE/MASS_GRIDS_V04/LAND/20170409_20170508').select('lwe_thickness_csr');\n",
        "basins_africa_csr = get_twsa_mean(csr, basins_africa)\n",
        "\n",
        "# Map one month: GFZ\n",
        "gfz = ee.Image('NASA/GRACE/MASS_GRIDS_V04/LAND/20170409_20170508').select('lwe_thickness_gfz');\n",
        "basins_africa_csr = get_twsa_mean(gfz, basins_africa)\n",
        "\n",
        "# Map one month: JPL\n",
        "jpl = ee.Image('NASA/GRACE/MASS_GRIDS_V04/LAND/20170409_20170508').select('lwe_thickness_jpl');\n",
        "basins_africa_jpl = get_twsa_mean(jpl, basins_africa)"
      ],
      "metadata": {
        "id": "frzB7vfFQU1M"
      },
      "execution_count": null,
      "outputs": []
    },
    {
      "cell_type": "markdown",
      "source": [
        "Let's take a look at what the function output."
      ],
      "metadata": {
        "id": "5FWtjvlA8rPo"
      }
    },
    {
      "cell_type": "code",
      "source": [
        "basins_africa_jpl"
      ],
      "metadata": {
        "id": "StS81N_4TR3l"
      },
      "execution_count": null,
      "outputs": []
    },
    {
      "cell_type": "markdown",
      "source": [
        "Now plot these basin-averaged TWSA values."
      ],
      "metadata": {
        "id": "0OCBfnot9Aob"
      }
    },
    {
      "cell_type": "code",
      "source": [
        "# Create an empty image into which to paint the features.\n",
        "empty = ee.Image().byte()\n",
        "\n",
        "# Paint all the polygon edges with the same number and width, display.\n",
        "fills = empty.paint(featureCollection=basins_africa_jpl, color='mean')\n",
        "\n",
        "vis_params = {\n",
        "        'palette': ['ff0303', 'ffffff', '0300ff'],\n",
        "        'min': -0.25, 'max': 0.25\n",
        "    }  # Set the color scale for the map\n",
        "\n",
        "Map.addLayer(fills, vis_params, 'TWSA (April 2017)')\n",
        "\n",
        "Map.add_colorbar(\n",
        "        vis_params,\n",
        "        label=\"Equivalent Water Thickness (cm)\",\n",
        "        orientation=\"vertical\",\n",
        "        position=\"bottomleft\",\n",
        "        transparent_bg=True,\n",
        "    )  # Add legend as a vertical colorbar\n",
        "\n",
        "# Display map\n",
        "Map"
      ],
      "metadata": {
        "id": "814423NNNsV4"
      },
      "execution_count": null,
      "outputs": []
    },
    {
      "cell_type": "markdown",
      "source": [
        "## Part 2. Water storage change over time\n",
        "\n",
        "In this second part of the tutorial, we will select one basin and examine the temporal changes in basin-averaged TWSA values."
      ],
      "metadata": {
        "id": "IQLKSAiiaEhb"
      }
    },
    {
      "cell_type": "markdown",
      "source": [
        "Let's first select one basin."
      ],
      "metadata": {
        "id": "mAYYDWB3_862"
      }
    },
    {
      "cell_type": "code",
      "source": [
        "#selected_basin = basins_africa.filter('HYBAS_ID == 1020040190') # 1\n",
        "#selected_basin = basins_africa.filter('HYBAS_ID == 1020000010') # 2\n",
        "#selected_basin = basins_africa.filter('HYBAS_ID == 1020011530') # 3\n",
        "#selected_basin = basins_africa.filter('HYBAS_ID == 1020021940') # 4\n",
        "#selected_basin = basins_africa.filter('HYBAS_ID == 1020027430') # 5\n",
        "#selected_basin = basins_africa.filter('HYBAS_ID == 1020034170') # 6\n",
        "#selected_basin = basins_africa.filter('HYBAS_ID == 1020035180') # 7\n",
        "selected_basin = basins_africa.filter('HYBAS_ID == 2020071190') # 8\n",
        "\n",
        "# Display selected basin\n",
        "Map = geemap.Map()\n",
        "Map.centerObject(basins_africa, 3)\n",
        "Map.addLayer(selected_basin, {'color': '808080'}, 'Selected basin')\n",
        "Map"
      ],
      "metadata": {
        "id": "WxxZJ-6My3DP"
      },
      "execution_count": null,
      "outputs": []
    },
    {
      "cell_type": "code",
      "source": [
        "selected_basin"
      ],
      "metadata": {
        "id": "0kJS0n_fEknB"
      },
      "execution_count": null,
      "outputs": []
    },
    {
      "cell_type": "code",
      "source": [
        "def get_twsa_mean(image, geometry, property):\n",
        "    \"\"\"Sets TWSA mean as as a property of the image\n",
        "    ---\n",
        "    Params:\n",
        "        image (ee.Image)\n",
        "        geometry (ee.Geometry):\n",
        "            Region of interest\n",
        "    Returns:\n",
        "        ee.Image:\n",
        "            Same as the input image, but with a band 'twsa_mean'\n",
        "            equal to the basin-averaged value.\n",
        "    \"\"\"\n",
        "\n",
        "    twsa_mean = (\n",
        "        image.reduceRegion(\n",
        "                          reducer=ee.Reducer.mean(),\n",
        "                          geometry=geometry,\n",
        "                          scale=111320,\n",
        "                          tileScale=1\n",
        "                          )\n",
        "            .get(property)\n",
        "    )\n",
        "    return image.set('date', image.date().format()).set('twsa_mean', twsa_mean)"
      ],
      "metadata": {
        "id": "RT9nmfdzpa_i"
      },
      "execution_count": null,
      "outputs": []
    },
    {
      "cell_type": "code",
      "source": [
        "def get_values_from_ee(image_collection, geometry, property):\n",
        "    \"\"\" Get ee TWSA time series values into a local Pandas dataframe\n",
        "    ---\n",
        "    Params:\n",
        "        image_collection (ee.ImageCollection)\n",
        "        roi (ee.Geometry)\n",
        "    Returns:\n",
        "        pd.DataFrame:\n",
        "            Table with a datetime index and TWSA values\n",
        "    \"\"\"\n",
        "    # Apply the get_twsa_mean function to each image\n",
        "    twsa = image_collection.map(lambda image: get_twsa_mean(image,geometry,property))\n",
        "    values = twsa.reduceColumns(\n",
        "        ee.Reducer.toList(2), ['date', 'twsa_mean']\n",
        "    ).values().get(0)  # Reduces the images properties to a list of lists\n",
        "    lista = ee.List(values)  # Type casts the result into a List\n",
        "    twsas = ee.Dictionary(lista.flatten())  # Converts the list of lists to a Dictionary\n",
        "    # This is where we call getInfo()\n",
        "    twsa = pd.DataFrame.from_dict(twsas.getInfo(), orient='index', columns=['twsa_mean'])\n",
        "    # Now that we have a python object, represent dates as Python datetimes\n",
        "    twsa.index = pd.to_datetime(twsa.index)\n",
        "    return twsa"
      ],
      "metadata": {
        "id": "ot78a9gyD6rl"
      },
      "execution_count": null,
      "outputs": []
    },
    {
      "cell_type": "code",
      "source": [
        "twsa_csr = get_values_from_ee(twsa_monthly.select('lwe_thickness_csr'),  selected_basin, 'lwe_thickness_csr')\n",
        "twsa_gfz = get_values_from_ee(twsa_monthly.select('lwe_thickness_gfz'),  selected_basin, 'lwe_thickness_gfz')\n",
        "twsa_jpl = get_values_from_ee(twsa_monthly.select('lwe_thickness_jpl'),  selected_basin, 'lwe_thickness_jpl')\n",
        "\n",
        "# Compute the ensemble mean\n",
        "twsa = pd.DataFrame({\n",
        "    'monthly': (twsa_csr['twsa_mean'] + twsa_gfz['twsa_mean'] + twsa_jpl['twsa_mean']) / 3\n",
        "})\n",
        "\n",
        "# Calculate interannual anomalies (12-month moving average)\n",
        "twsa['interannual'] = twsa['monthly'].rolling(window=12, center=True).mean()"
      ],
      "metadata": {
        "id": "6hc3d916DNYG"
      },
      "execution_count": null,
      "outputs": []
    },
    {
      "source": [
        "from matplotlib import pyplot as plt\n",
        "import matplotlib.dates as mdates\n",
        "import seaborn as sns\n",
        "\n",
        "# Use a dark background\n",
        "plt.style.use('dark_background')\n",
        "fig, ax = plt.subplots(figsize=(12, 6))\n",
        "\n",
        "# Plot with bold lines\n",
        "ax.plot(twsa['monthly'], label='Monthly', linewidth=0.5, color='#bbbbbb')\n",
        "ax.plot(twsa['interannual'], label='Interannual', linewidth=2.5, color='gold')\n",
        "\n",
        "# Customize labels, title, etc.\n",
        "ax.set_ylabel('Basin-averaged TWSA (cm)', fontsize=13, labelpad=10)\n",
        "ax.set_xlabel('Year', fontsize=13, labelpad=10)\n",
        "\n",
        "# Optional: set dark grid lines manually\n",
        "ax.grid(True, linestyle='--', linewidth=0.5, alpha=0.3)\n",
        "\n",
        "# Customize ticks\n",
        "ax.tick_params(axis='both', colors='white', labelsize=11)\n",
        "\n",
        "# Format x-axis if it's datetime\n",
        "if hasattr(twsa_csr.index, 'dtype') and 'datetime' in str(twsa_csr.index.dtype):\n",
        "    ax.xaxis.set_major_locator(mdates.YearLocator(2))\n",
        "    ax.xaxis.set_major_formatter(mdates.DateFormatter('%Y'))\n",
        "\n",
        "# Remove top/right spines\n",
        "for spine in ['top', 'right']:\n",
        "    ax.spines[spine].set_visible(False)\n",
        "\n",
        "# Legend customization\n",
        "ax.legend(frameon=False, loc='lower left', fontsize=11, title_fontsize=12)\n",
        "\n",
        "# Title\n",
        "plt.title('GRACE observations of Terrestrial Water Storage changes', fontsize=15, weight='bold', pad=15)\n",
        "\n",
        "# Tight layout and display\n",
        "plt.tight_layout()\n",
        "plt.show()"
      ],
      "cell_type": "code",
      "metadata": {
        "id": "_KR6mun9SKM-"
      },
      "execution_count": null,
      "outputs": []
    }
  ]
}