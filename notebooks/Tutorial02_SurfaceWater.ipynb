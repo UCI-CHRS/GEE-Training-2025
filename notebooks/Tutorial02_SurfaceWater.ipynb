{
  "nbformat": 4,
  "nbformat_minor": 0,
  "metadata": {
    "colab": {
      "provenance": [],
      "authorship_tag": "ABX9TyNzRoJTRRwb3aEAlXXJv3a8",
      "include_colab_link": true
    },
    "kernelspec": {
      "name": "python3",
      "display_name": "Python 3"
    },
    "language_info": {
      "name": "python"
    }
  },
  "cells": [
    {
      "cell_type": "markdown",
      "metadata": {
        "id": "view-in-github",
        "colab_type": "text"
      },
      "source": [
        "<a href=\"https://colab.research.google.com/github/UCI-CHRS/GEE-Training-2025/blob/main/notebooks/Tutorial02_SurfaceWater.ipynb\" target=\"_parent\"><img src=\"https://colab.research.google.com/assets/colab-badge.svg\" alt=\"Open In Colab\"/></a>"
      ]
    },
    {
      "cell_type": "markdown",
      "source": [
        "<center>  \n",
        "\n",
        "\n",
        "# **Surface Water Change Over Time**  \n",
        "### **PEER2PEER GEE Training**  \n",
        "**Developed by:** Annika Hjelmstad<sup>1</sup>, Debora Yumi de Oliveira<sup>1,2</sup>, Muhammad Umar Akbar<sup>3</sup>, Kasra Khodkar<sup>3</sup>\n",
        "\n",
        "**Affiliation:**\n",
        "\n",
        "<sup>1</sup>Department of Civil and Environmental Engineering, University of California at Irvine, Irvine, USA  \n",
        "<sup>2</sup>Mackenzie Presbyterian University, São Paulo, Brazil  \n",
        "<sup>3</sup>Department of Biosystems and Agricultural Engineering, Oklahoma State University, Stillwater, USA  \n",
        "\n",
        "</center>\n",
        "\n",
        "---\n",
        "\n",
        "## **Introduction**\n",
        "\n",
        "Welcome to this Google Earth Engine (GEE) training notebook! In this tutorial, we will work with the [JRC Monthly Water History dataset](https://developers.google.com/earth-engine/datasets/catalog/JRC_GSW1_4_MonthlyHistory) in the Google Earth Engine data catalog to explore changes in surface water area seasonally and over time.\n",
        "\n",
        "This dataset is derived from Landsat 5, 7, and 8 imagery (top-of-atmosphere reflectance and brightness temperature images) collected between 16 March 1984 and 31 December 2021. The Landsat program (led by [NASA](https://landsat.gsfc.nasa.gov/) and the [USGS](https://www.usgs.gov/landsat-missions)) is a set of satellite Earth imaging missions that date back to 1972. For more information on how this surface water dataset was constructed from Landsat imagery, see [the article in Nature corresponding to this dataset](https://rdcu.be/emmXb).\n",
        "\n",
        "For this tutorial, we will use two datasets in the google Earth Engine Catalog:   \n",
        "\n",
        "* **[JRC/GSW1_4/MonthlyHistory](https://developers.google.com/earth-engine/datasets/catalog/JRC_GSW1_4_MonthlyHistory)**: This is a monthly surface water dataset constructed from Landsat satellite imagery that provides surface water data at a monthly, 30 meter resolution using 3 categories:\n",
        "  - **0**: No data\n",
        "  - **1**: No water/land\n",
        "  - **2**: Water\n",
        "* **[JRC/GSW1_4/GlobalSurfaceWater](https://developers.google.com/earth-engine/datasets/catalog/JRC_GSW1_4_GlobalSurfaceWater)**: This is a processed version of the MonthlyHistory dataset that gives a fraction over time of surface water occurrence. We will use it to roughly gauge areas with permanent water bodies.\n",
        "\n",
        "---"
      ],
      "metadata": {
        "id": "k7SOeRZNh3ey"
      }
    },
    {
      "cell_type": "markdown",
      "source": [
        "First, we will install all necessary Python modules:"
      ],
      "metadata": {
        "id": "LEyM1ZLjoIcJ"
      }
    },
    {
      "cell_type": "code",
      "source": [
        "!pip install geemap matplotlib pandas numpy scipy"
      ],
      "metadata": {
        "id": "0wdJHakP4-6l"
      },
      "execution_count": null,
      "outputs": []
    },
    {
      "cell_type": "markdown",
      "source": [
        "Next, we need to import the Python modules we will use and authenticate and initialize with the Google Cloud project we created previously."
      ],
      "metadata": {
        "id": "KsUSpt3qpT5F"
      }
    },
    {
      "cell_type": "code",
      "execution_count": null,
      "metadata": {
        "id": "U_S4ooa606QS"
      },
      "outputs": [],
      "source": [
        "# Import necessary Python modules\n",
        "import ee                        # ee provides functions for sending requests to the GEE servers\n",
        "import geemap                    # geemap is for mapping ee objects\n",
        "import matplotlib.pyplot as plt  # matplotlib is a general Python plotting module\n",
        "from matplotlib import gridspec\n",
        "import pandas as pd              # pandas is a Python module for handling dataframes\n",
        "import numpy as np               # numpy is a Python module for working with arrays and matrices\n",
        "import scipy.stats               # scipy is a Python module that provides common algorithms in math and science\n",
        "\n",
        "# Authenticate and initialize with your google cloud project\n",
        "ee.Authenticate()\n",
        "ee.Initialize(project='peer2peer-gee-training-455820')  # replace the project with your own project ID\n"
      ]
    },
    {
      "cell_type": "markdown",
      "source": [
        "Now we're ready to read in the data. Note that below we use `ee.ImageCollection` to read the monthly dataset, but `ee.Image` to read the summary dataset. This is because the monthly dataset has one image per month, while the summary dataset contains only one image with the `occurrence` variable, which summarizes the data over time."
      ],
      "metadata": {
        "id": "kozpGQxppjnQ"
      }
    },
    {
      "cell_type": "code",
      "source": [
        "# Read monthly surface water image collection\n",
        "surface_water_monthly = ee.ImageCollection(\"JRC/GSW1_4/MonthlyHistory\")\n",
        "\n",
        "# Read the summary surface water image\n",
        "surface_water_summary = ee.Image(\"JRC/GSW1_4/GlobalSurfaceWater\")"
      ],
      "metadata": {
        "id": "BFfXTDjXSeI0"
      },
      "execution_count": null,
      "outputs": []
    },
    {
      "cell_type": "markdown",
      "source": [
        "# 1. Inspect Monthly Surface Water dataset\n",
        "\n",
        "From the [dataset documentation](https://developers.google.com/earth-engine/datasets/catalog/JRC_GSW1_4_MonthlyHistory), we know that each value is either 0, 1, or 2:\n",
        "\n",
        "- **0**: No data\n",
        "- **1**: No water/land\n",
        "- **2**: Water\n",
        "\n",
        "Let's see what's in the image collection. (Click on the dropdown arrows after running the following cell.)"
      ],
      "metadata": {
        "id": "9YOpRP-D5rEV"
      }
    },
    {
      "cell_type": "code",
      "source": [
        "surface_water_monthly  # this will print out information about the variable"
      ],
      "metadata": {
        "id": "aa_drnRJXwoC"
      },
      "execution_count": null,
      "outputs": []
    },
    {
      "cell_type": "markdown",
      "source": [
        "We can see that the surface_water_monthly ImageCollection contains a list of 454 features - one image per month from March 1984 to December 2021 - and that each of those images has one band named \"water\".\n",
        "\n",
        "To get a better sense of what is in the dataset, let's plot it. Since we have data in three dimensions--latitude, longitude, and time--we can't very easily visualize all of the data at once. However, we can map individual time steps of the image collection. Let's see what one of the first, and one of the last time steps look like.\n",
        "\n",
        "You can show each layer with the checkboxes in the upper right of the map that shows up after you run the following code cell."
      ],
      "metadata": {
        "id": "oAtvv4NAqgEV"
      }
    },
    {
      "cell_type": "code",
      "source": [
        "def plot_surface_water(image, title, existing_map=None):\n",
        "    \"\"\"This function will plot missing data in light gray (value 0),\n",
        "    land (value 1) in tan, and water (value 2) in blue\n",
        "    NOTE: The 'False' parameter in Map.addLayer prevents the layer\n",
        "    from automatically being displayed\n",
        "    ---\n",
        "    Params:\n",
        "        image (ee.Image):\n",
        "            2-D Image of surface water values (0, 1, or 2)\n",
        "        title (str):\n",
        "            Plot title\n",
        "        existing_map (geemap.Map | None):\n",
        "            Map to add layers to. Creates a new map if None (default)\n",
        "    Returns:\n",
        "        geemap.Map\n",
        "    \"\"\"\n",
        "    if existing_map is None:\n",
        "        Map = geemap.Map()  # Initialize map object if we don't already have one\n",
        "    else:\n",
        "        Map = existing_map\n",
        "    vis_params = {\n",
        "        'palette': ['#D3D3D3', 'D6B588', '0000FF'],\n",
        "        'min': 0, 'max': 2\n",
        "    }  # Set the color scale for the map\n",
        "    Map.addLayer(image, vis_params, title, False)  # Add the layer to our map object.\n",
        "    if existing_map is None:\n",
        "        Map.add_legend(legend_dict = {\n",
        "            'Missing data': (211, 211, 211), 'Land': (214, 181, 136), 'Water': (0, 0, 255),\n",
        "        })  # Add legend\n",
        "    return Map\n",
        "\n",
        "# Map one month (September 1985)\n",
        "early_date = surface_water_monthly.filterDate('1985-09-01').first().select('water')\n",
        "Map = plot_surface_water(early_date, \"Surface Water September 1985\")\n",
        "\n",
        "# Map another month (September 2020)\n",
        "recent_date = surface_water_monthly.filterDate('2020-09-01').first().select('water')\n",
        "plot_surface_water(recent_date, \"September 2020 Surface Water\", Map)"
      ],
      "metadata": {
        "id": "MnLVo54uFDv5"
      },
      "execution_count": null,
      "outputs": []
    },
    {
      "cell_type": "markdown",
      "source": [
        "# 2. Mask out regions with missing data and select a region of interest\n",
        "We can see that a lot of regions have missing data. This is not uncommon for satellite data, especially older observations.\n",
        "\n",
        "For this tutorial, we want to identify a region where:\n",
        "* There is a water body\n",
        "* Most data isn't missing\n",
        "\n",
        "We will define these criteria with two thresholds:\n",
        "1. `occurrence_threshold`: Plot pixels with at least this percent of water in the time series to identify permanent water bodies  \n",
        "2. `percent_missing_threshold`: mask out pixels with more than this percent of missing data over the time series."
      ],
      "metadata": {
        "id": "3WnQ9iKNZZQV"
      }
    },
    {
      "cell_type": "code",
      "source": [
        "# Define thresholds\n",
        "occurrence_threshold = 50       # water present for at least 50% of the time series\n",
        "percent_missing_threshold = 10  # mask out pixels with greater than this percent missing over time"
      ],
      "metadata": {
        "id": "7WXUAiUAv6Xv"
      },
      "execution_count": null,
      "outputs": []
    },
    {
      "cell_type": "markdown",
      "source": [
        "First, let's map the percentage of missing data globally. We will use the function `get_percent_missing` to calculate, for each pixel, what percent over time are missing."
      ],
      "metadata": {
        "id": "Ac9B7Ilbv8T2"
      }
    },
    {
      "cell_type": "code",
      "source": [
        "# Function to calculate the percent of pixels over time with missing data\n",
        "def get_percent_missing(image_collection_subset):\n",
        "    \"\"\"Calculates the percent missing over time for the\n",
        "    JRC surface water dataset (missing data value: 0)\n",
        "    ---\n",
        "    Params:\n",
        "        image_collection_subset (ee.ImageCollection):\n",
        "            image collection with missing data set to 0\n",
        "    Returns:\n",
        "        ee.Image\n",
        "            Image with a band of percent missing values in place of the\n",
        "            time axis of the image collection\n",
        "    \"\"\"\n",
        "    return (\n",
        "        image_collection_subset                 # we will pipe the following commands onto the image collection\n",
        "        .map(lambda image: image.eq(0))         # makes a mask of 1 for missing data, 0 for all others\n",
        "        .sum()                                  # sum the number of missing data over time\n",
        "        .divide(image_collection_subset.size()) # divide the number of missing data by the total dataset length\n",
        "        .multiply(100)                          # multiply by 100 to get a percent\n",
        "    )\n",
        "\n",
        "# Calculate percent missing for the whole time period\n",
        "percent_missing_all = get_percent_missing(surface_water_monthly)\n",
        "\n",
        "# Read the \"occurrence\" and \"water\" variables and filter dates for a shorter time period\n",
        "start_date = '2013-01-01'  # January 2013\n",
        "end_date = '2022-01-01'    # January 2022\n",
        "water_occurrence = surface_water_summary.select(\"occurrence\")\n",
        "water_monthly_subset = surface_water_monthly.select(\"water\").filterDate(start_date, end_date)\n",
        "\n",
        "# Calculate percent missing for the shorter time period\n",
        "percent_missing = get_percent_missing(water_monthly_subset)"
      ],
      "metadata": {
        "id": "oA_7nWfNwiNg"
      },
      "execution_count": null,
      "outputs": []
    },
    {
      "cell_type": "markdown",
      "source": [
        "Plot the missing data for both time periods"
      ],
      "metadata": {
        "id": "4TZeqBLSvk7z"
      }
    },
    {
      "cell_type": "code",
      "source": [
        "def plot_percent_missing(image_collection_subset, layer_title, existing_map=None):\n",
        "    \"\"\"Function to map the percent of missing data with a white (no missing data)\n",
        "    to red (all missing data) continuous color scale.\n",
        "    ---\n",
        "    Params:\n",
        "        image_collection_subset (ee.ImageCollection)\n",
        "        layer_title (str)\n",
        "        existing_map (geemap.Map | None)\n",
        "    Returns:\n",
        "        geemap.Map\n",
        "    \"\"\"\n",
        "    if existing_map is None:\n",
        "        Map = geemap.Map()  # Initialize map object\n",
        "    else:\n",
        "        Map = existing_map\n",
        "    vis_missingdata = {\n",
        "        'min': 0,\n",
        "        'max': 100,  # can also set this to 100\n",
        "        'palette': \"Reds\",\n",
        "    }  # Define plotting color scale\n",
        "    Map.addLayer(\n",
        "        image_collection_subset, vis_missingdata, layer_title, False\n",
        "    )  # adds image_collection_subset layer to map\n",
        "    params = {\n",
        "        \"vmin\": 0,\n",
        "        \"vmax\": 100,\n",
        "        \"cmap\": \"Reds\",\n",
        "        \"label\": \"Percent missing data\",\n",
        "        \"position\": \"bottomright\",\n",
        "    }  # defines a colorbar that matches the vis_missingdata parameters\n",
        "    if existing_map is None:\n",
        "        Map.add_colorbar(**params)  # Add colorbar\n",
        "    return Map\n",
        "\n",
        "# Map percent missing for full time period (1984-2021)\n",
        "Map = plot_percent_missing(percent_missing_all, \"Missing Data 1984-2021\")\n",
        "\n",
        "# Map percent missing for the shortened time period (2013-2021)\n",
        "plot_percent_missing(percent_missing, \"Missing Data 2013-2021\", Map)"
      ],
      "metadata": {
        "id": "k4FRmrfDGIVC"
      },
      "execution_count": null,
      "outputs": []
    },
    {
      "cell_type": "markdown",
      "source": [
        "Now, we want to map water above the percent occurrence we defined earlier, and see where it intersects with water bodies. We will do this in two steps:\n",
        "\n",
        "1. We will use the monthly surface water dataset to map areas with a percent of missing data above our threshold in grey, and below the threshold in white.\n",
        "2. We will use the summary dataset to map only areas with water occurrence greater than our threshold in blue.\n",
        "\n",
        "To do this, we first need to create masks to show which areas meet our two threshold criteria."
      ],
      "metadata": {
        "id": "M_ih5mL7MIH0"
      }
    },
    {
      "cell_type": "code",
      "source": [
        "# Water bodies mask\n",
        "water_mask = water_occurrence.gt(occurrence_threshold)\n",
        "\n",
        "# Missing data mask\n",
        "missing_data_mask = percent_missing.mask(percent_missing.lt(percent_missing_threshold))"
      ],
      "metadata": {
        "id": "HMMhD1BMx88E"
      },
      "execution_count": null,
      "outputs": []
    },
    {
      "cell_type": "markdown",
      "source": [
        "Now, we can map regions with low missing data and permanent water bodies (as defined by our thresholds) to find a good candidate region for analysis."
      ],
      "metadata": {
        "id": "gZi1nKUHyRN1"
      }
    },
    {
      "cell_type": "code",
      "source": [
        "def map_percent_missing_with_water_bodies(missing_data_mask, water_mask, existing_map=None):\n",
        "    \"\"\"Make a semi-transparent map of pixels with the percent missing mask\n",
        "    above the threshold in black and below in white, with water bodies\n",
        "    shown in a semi-transparent blue.\n",
        "    ---\n",
        "    Params:\n",
        "        missing_data_mask (ee.Image):\n",
        "            Mask with 1 for missing data, else 0\n",
        "        water_mask (ee.Image):\n",
        "            Mask with 1 for water, else 0\n",
        "        existing_map (geemap.Map | None)\n",
        "    Returns:\n",
        "        geemap.Map\n",
        "    \"\"\"\n",
        "    if existing_map is None:\n",
        "        Map = geemap.Map()  # Initialize map object if we don't already have one\n",
        "    else:\n",
        "        Map = existing_map\n",
        "    # Map data below threshold in black\n",
        "    vis_missingdata = {\n",
        "        'palette': ['black', 'white'],\n",
        "        'opacity': 0.5\n",
        "    }\n",
        "    Map.addLayer(missing_data_mask.unmask(-1), vis_missingdata, \"Missing data below threshold\")\n",
        "    # Map data above threshold in white\n",
        "    vis_missingdata = {\n",
        "        'min': 0,\n",
        "        'max': percent_missing_threshold,\n",
        "        'palette': ['white'],\n",
        "        'opacity': 0.5\n",
        "    }\n",
        "    Map.addLayer(missing_data_mask, vis_missingdata, \"Missing data above threshold\")\n",
        "    # Map water bodies in blue\n",
        "    vis_waterbodies = {\n",
        "        'bands': ['occurrence'],\n",
        "        'min': 0,\n",
        "        'max': 1,\n",
        "        'palette': ['ffffff', '0000ff'],\n",
        "        'opacity': 0.3,\n",
        "      }\n",
        "    Map.addLayer(water_mask, vis_waterbodies, 'Occurrence')\n",
        "    return Map\n",
        "\n",
        "# Create and display map\n",
        "map_percent_missing_with_water_bodies(missing_data_mask, water_mask)"
      ],
      "metadata": {
        "id": "GY7giIlmG85U"
      },
      "execution_count": null,
      "outputs": []
    },
    {
      "cell_type": "markdown",
      "source": [
        "For this example, we'll look at [Lake Turkana](https://en.wikipedia.org/wiki/Lake_Turkana). You can use any of the [`ee.Geometry`](https://developers.google.com/earth-engine/apidocs/ee-geometry) functions to clip to a small area when you don't need the whole available spatial extent. Here, we will clip to a rectangle roughly around Lake Turkana with the `ee.Geometry.BBox` function, which defines a rectangle from the most extreme (west, south, east, north) points."
      ],
      "metadata": {
        "id": "Y2tp2nxIEmLs"
      }
    },
    {
      "cell_type": "code",
      "source": [
        "# Define Lake Turkana bounding box\n",
        "lake_turkana = ee.Geometry.BBox(34.361938,1.992217,38.153320,5.203270)\n",
        "roi, roi_name = lake_turkana, \"Lake Turkana\"\n",
        "\n",
        "# Clip map extent to Lake Turkana\n",
        "Map = map_percent_missing_with_water_bodies(missing_data_mask, water_mask)\n",
        "Map.addLayer(ee.FeatureCollection(roi).style(fillColor='00000000'), {}, roi_name)\n",
        "Map.centerObject(roi, 7)\n",
        "Map"
      ],
      "metadata": {
        "id": "b5KxKYcR2ejc"
      },
      "execution_count": null,
      "outputs": []
    },
    {
      "cell_type": "markdown",
      "source": [
        "# 3. Characterize seasonality of Lake Turkana surface water resources\n",
        "\n",
        "Now that we've defined our area of interest, we can start our time series analysis. First, we want to figure out which seasons have more or less surface water. Since we have a relatively short data record to work with, we'll split the year into four seasons roughly corresponding to the astronomical seasons:  \n",
        "\n",
        "**MAM**: March, April, May   \n",
        "**JJA**: June, July, August  \n",
        "**SON**: September, October, November  \n",
        "**DJF**: December, January, February  \n",
        "\n",
        "The `ee.Filter.calendarRange` function allows us to clip certain months for all years in the dataset, which is convenient for seasonal calculations."
      ],
      "metadata": {
        "id": "34g33LwGLlce"
      }
    },
    {
      "cell_type": "code",
      "source": [
        "# Clip data to each season\n",
        "mam = water_monthly_subset.filter(ee.Filter.calendarRange(3, 5, 'month'))\n",
        "jja = water_monthly_subset.filter(ee.Filter.calendarRange(6, 8, 'month'))\n",
        "son = water_monthly_subset.filter(ee.Filter.calendarRange(9, 11, 'month'))\n",
        "djf = water_monthly_subset.filter(ee.Filter.calendarRange(12, 2, 'month'))"
      ],
      "metadata": {
        "id": "QUCWXtj9FeDP"
      },
      "execution_count": null,
      "outputs": []
    },
    {
      "cell_type": "markdown",
      "source": [
        "Now, we'll get the total area of surface water in the rectangular region by:\n",
        "1. Getting the area of each pixel\n",
        "2. Summing the area of all pixels with a value of 2 (water is present)\n",
        "\n",
        "We'll use the function `get_water_area` in the next code cell to do this calculation for each image."
      ],
      "metadata": {
        "id": "1q5L6KcN5eoU"
      }
    },
    {
      "cell_type": "code",
      "source": [
        "def get_water_area(image, geometry):\n",
        "    \"\"\"Sets the water area as as a property of the image\n",
        "    ---\n",
        "    Params:\n",
        "        image (ee.Image)\n",
        "        geometry (ee.Geometry):\n",
        "            Region of interest\n",
        "    Returns:\n",
        "        ee.Image:\n",
        "            Same as the input image, but with a band 'area' equal to the sum of\n",
        "            the surface water area\n",
        "    \"\"\"\n",
        "    area_sum = (\n",
        "        image.pixelArea()                     # returns a band with the pixel area in sq m\n",
        "            .mask(image.eq(2))               # mask only water values (equal to 2)\n",
        "            .reduceRegion(                   # reduce to the region of interest\n",
        "                reducer=ee.Reducer.sum(),    # sum over the pixels in region\n",
        "                geometry=geometry,\n",
        "                scale=30,                    # our data is at a 30m resolution\n",
        "                bestEffort=True,\n",
        "                maxPixels=20e9               # this depends on the no. of pixels to sum over\n",
        "              )\n",
        "            .get('area')                     # pixelArea() adds a band named 'area', whose sum we want\n",
        "    )\n",
        "    return image.set('date', image.date().format()).set('water_area', area_sum)"
      ],
      "metadata": {
        "id": "yE2Wr4Xbg3Ir"
      },
      "execution_count": null,
      "outputs": []
    },
    {
      "cell_type": "markdown",
      "source": [
        "Besides calculating the water area for each time step, the function `get_values_from_ee` in the next code cell does something important: it brings the calculated values from the GEE servers into memory. Until now, all of our calculations have been requests to the earth engine servers, limiting their functionality to the `ee` module.\n",
        "\n",
        "Once we call the `.getInfo()` function, this will bring the resulting data into our environment as a native Python data type that gives us more flexibility. Since the datasets in the GEE catalog are very large in size, we want to avoid calling `.getInfo()` until we have reduced the dataset to a size that we can work with in memory. In this case, we have reduced the dataset in space (the BBox around Lake Turkana) and time (only the 9 most recent years), and aggregated over space (summing surface water area for each time step), which significantly reduces how much data we are \"bringing over\" from the GEE servers (\"server-side\") over to our computing session (\"client-side\").\n",
        "\n",
        "For more information on server-side and client-side calculations, see the [Client vs. Server page](https://developers.google.com/earth-engine/guides/client_server) of the GEE documentation."
      ],
      "metadata": {
        "id": "GbPLIJMJ5uE1"
      }
    },
    {
      "cell_type": "code",
      "source": [
        "def get_values_from_ee(image_collection, roi):\n",
        "    \"\"\" Get ee surface water time series values into a local Pandas dataframe\n",
        "    ---\n",
        "    Params:\n",
        "        image_collection (ee.ImageCollection)\n",
        "        roi (ee.Geometry)\n",
        "    Returns:\n",
        "        pd.DataFrame:\n",
        "            Table with a datetime index and surface water area values\n",
        "    \"\"\"\n",
        "    # Apply the get_water_area function to each image\n",
        "    water_area = image_collection.map(lambda image: get_water_area(image, roi))\n",
        "    values = water_area.reduceColumns(\n",
        "        ee.Reducer.toList(2), ['date', 'water_area']\n",
        "    ).values().get(0)  # Reduces the images properties to a list of lists\n",
        "    lista = ee.List(values)  # Type casts the result into a List\n",
        "    water_areas = ee.Dictionary(lista.flatten())  # Converts the list of lists to a Dictionary\n",
        "    # This is where we call getInfo()\n",
        "    areas = pd.DataFrame.from_dict(water_areas.getInfo(), orient='index', columns=['area'])\n",
        "    # Now that we have a python object, represent dates as Python datetimes\n",
        "    areas.index = pd.to_datetime(areas.index)\n",
        "    areas = areas * 1e-6  # convert sq m to sq km\n",
        "    return areas\n",
        "\n",
        "# Retrieve the monthly surface water area calculation from the EE servers for local calculation\n",
        "mam_area = get_values_from_ee(mam, roi)\n",
        "jja_area = get_values_from_ee(jja, roi)\n",
        "son_area = get_values_from_ee(son, roi)\n",
        "djf_area = get_values_from_ee(djf, roi)\n",
        "allmonths_area = get_values_from_ee(water_monthly_subset, roi)"
      ],
      "metadata": {
        "id": "WjzOamoAyI07"
      },
      "execution_count": null,
      "outputs": []
    },
    {
      "cell_type": "markdown",
      "source": [
        "The rest of this tutorial will be Python-only: we've retrieved all of the data that we need from the GEE servers, and now we can do the same kind of analysis we would do with any other time series.\n",
        "\n",
        "We will use boxplots to visualize how the area of Lake Turkana change season to season. Boxplots give a rough picture of the distribution of a dataset, which we can directly compare between seasons.\n",
        "\n",
        "We will use the default `matplotlib` boxplot here, which shows:\n",
        "- A line at the median value\n",
        "- A box extending from the first quartile (25th percentile) to the third quartile (75th percentile)\n",
        "- \"Whiskers\" from the box edges to the farthest data point within 1.5x the inter-quartile range (the distance between the first and third quartiles)\n",
        "\n",
        "If you would like to change what information the boxplot displays, consult the [matplotlib documentation](https://matplotlib.org/stable/api/_as_gen/matplotlib.pyplot.boxplot.html)."
      ],
      "metadata": {
        "id": "gB1sPeN-84TR"
      }
    },
    {
      "cell_type": "code",
      "source": [
        "# Get a list of data values for each season so that we can plot multiple boxplots in one figure\n",
        "data = [df['area'].values for df in [mam_area, jja_area, son_area, djf_area, allmonths_area]]\n",
        "fig, ax = plt.subplots()  # Initialize the figure\n",
        "ax.boxplot(data, showfliers=False)  # Plot the boxplots (one for each season, and the full dataset)\n",
        "# Make cosmetic adjustments to the plot for clarity\n",
        "ax.set(adjustable = 'box')\n",
        "ax.set_xticklabels([\"MAM\", \"JJA\", \"SON\", \"DJF\", \"All\"])\n",
        "ax.set_ylabel(\"Surface water area (sq km)\")"
      ],
      "metadata": {
        "id": "HpsXZT5lFpi3"
      },
      "execution_count": null,
      "outputs": []
    },
    {
      "cell_type": "markdown",
      "source": [
        "We can also directly compare specific values from each distribution. Let's look at the median surface water area value for each season."
      ],
      "metadata": {
        "id": "k5IffVKZ-rzI"
      }
    },
    {
      "cell_type": "code",
      "source": [
        "# Get median values\n",
        "for df, name in zip(data, ['MAM', 'JJA', 'SON', 'DJF', 'All']):\n",
        "    print(f\"Median {name}: {np.median(df):.0f} sq km\")"
      ],
      "metadata": {
        "id": "WGxEWapfPeg4"
      },
      "execution_count": null,
      "outputs": []
    },
    {
      "cell_type": "markdown",
      "source": [
        "> *Reflection questions*:\n",
        "- Which seasons have the highest and lowest median surface water value? What factors do you think drive that?\n",
        "- Does it make sense given the climatology of the area?"
      ],
      "metadata": {
        "id": "yb3HL7o_-ywT"
      }
    },
    {
      "cell_type": "markdown",
      "source": [
        "# 4. Identify trends in surface water area over time\n",
        "\n",
        "Next, we will check for trends in surface water area over time for each season by fitting a linear regression model to each time series."
      ],
      "metadata": {
        "id": "DwoZBjMGLhqV"
      }
    },
    {
      "cell_type": "markdown",
      "source": [
        "Plot time series of surface water values, showing each season in a different color:"
      ],
      "metadata": {
        "id": "1JuabpOiOXGG"
      }
    },
    {
      "cell_type": "code",
      "source": [
        "# This code just sets up the matrix of plots we want\n",
        "fig = plt.figure(figsize=(2*6.4, 4.8))\n",
        "gs0 = gridspec.GridSpec(1, 2, figure=fig)\n",
        "gs00 = gs0[0].subgridspec(1, 1)\n",
        "ax1 = fig.add_subplot(gs00[0])\n",
        "gs01 = gs0[1].subgridspec(2, 2)\n",
        "ax2 = fig.add_subplot(gs01[0, 0])#.set_ylim([6e9])\n",
        "ax3 = fig.add_subplot(gs01[0, 1], sharey=ax2)\n",
        "ax4 = fig.add_subplot(gs01[1, 0], sharex=ax2)\n",
        "ax5 = fig.add_subplot(gs01[1, 1], sharex=ax3, sharey=ax4)\n",
        "\n",
        "# Plot all seasons together (large plot on the left)\n",
        "djf_area.rename({'area': 'DJF'}, axis=1).plot(ax=ax1, color = 'red', marker='o', markerfacecolor='None', linestyle='None')\n",
        "mam_area.rename({'area': 'MAM'}, axis=1).plot(ax=ax1, color = 'orange', marker='o', markerfacecolor='None', linestyle='None')\n",
        "jja_area.rename({'area': 'JJA'}, axis=1).plot(ax=ax1, color = 'green', marker='o', markerfacecolor='None', linestyle='None')\n",
        "son_area.rename({'area': 'SON'}, axis=1).plot(ax=ax1, color = 'blue', marker='o', markerfacecolor='None', linestyle='None')\n",
        "allmonths_area.rename({'area': 'All months'}, axis=1).plot(ax=ax1, ylabel=\"Surface water area (square km)\", color='black', linewidth=0.5)\n",
        "ax1.legend(ncol=3, loc=\"lower right\")\n",
        "\n",
        "# Make individual plots for yearly means of each season (2x2 grid of plots on the right)\n",
        "djf_area.rename({'area': 'DJF'}, axis=1).resample(\"1y\").mean().plot(ax=ax2, color = 'red', marker='o', markerfacecolor='None')\n",
        "mam_area.rename({'area': 'MAM'}, axis=1).resample(\"1y\").mean().plot(ax=ax3, color = 'orange', marker='o', markerfacecolor='None')\n",
        "jja_area.rename({'area': 'JJA'}, axis=1).resample(\"1y\").mean().plot(ax=ax4, color = 'green', marker='o', markerfacecolor='None')\n",
        "son_area.rename({'area': 'SON'}, axis=1).resample(\"1y\").mean().plot(ax=ax5, color = 'blue', marker='o', markerfacecolor='None')\n",
        "\n",
        "# Make x-axis dates readable\n",
        "plt.gcf().autofmt_xdate()"
      ],
      "metadata": {
        "id": "V0dsbHItORI_"
      },
      "execution_count": null,
      "outputs": []
    },
    {
      "cell_type": "markdown",
      "source": [
        "For each season, we will use the function `get_trend` to:\n",
        "1. Fit a linear regression model to the time series\n",
        "2. Apply the model fit to the time series to get a linear trendline to plot with the real data points"
      ],
      "metadata": {
        "id": "jver0GUjtsni"
      }
    },
    {
      "cell_type": "code",
      "source": [
        "def get_trend(df):\n",
        "  \"\"\"Returns the surface water areas estimated from\n",
        "  a linear fit to the time series.\n",
        "  ---\n",
        "  Params:\n",
        "      df (pd.DataFrame):\n",
        "          Surface water area time series\n",
        "  Returns:\n",
        "      pd.DataFrame:\n",
        "          Surface water time series estimated from the linear trend\n",
        "  \"\"\"\n",
        "  # Modify the datetimes to be the number of days since the first data point\n",
        "  df_mod = df.reset_index().rename({'index': 'x', 'area': 'y'}, axis=1)\n",
        "  df_mod['x'] = df_mod['x'].astype('datetime64[s]').astype(int).astype(float)\n",
        "  df_mod['x'] = (df_mod['x'] - df_mod['x'].min())/3600  # days since start\n",
        "  # Linear regression with scipy\n",
        "  fit = scipy.stats.linregress(df_mod['x'], df_mod['y'])\n",
        "  # Apply the linear model\n",
        "  y_trend = df_mod['x'] * fit.slope + fit.intercept  #\n",
        "  df_trend = pd.DataFrame(dict(area=y_trend.values), index=df.index)\n",
        "  return df_trend\n",
        "\n",
        "# Get linear estimates for each season\n",
        "df_trend_all = get_trend(allmonths_area)\n",
        "df_trend_djf = get_trend(djf_area)\n",
        "df_trend_mam = get_trend(mam_area)\n",
        "df_trend_jja = get_trend(jja_area)\n",
        "df_trend_son = get_trend(son_area)"
      ],
      "metadata": {
        "id": "HKGkT7oeawcy"
      },
      "execution_count": null,
      "outputs": []
    },
    {
      "cell_type": "markdown",
      "source": [
        "For a sense of the overall trend in surface water area, we can remove seasonality from the time series by subtracting monthly means of surface water area before calculating the linear trend."
      ],
      "metadata": {
        "id": "ggpSD51MuV-B"
      }
    },
    {
      "cell_type": "code",
      "source": [
        "def remove_monthly_mean(df, col):\n",
        "    \"\"\"Subtract each month's mean to remove seasonality.\n",
        "    Add back in the overall mean to get values in the same range as the\n",
        "    original dataset.\n",
        "    ---\n",
        "    Params:\n",
        "        df (pd.DataFrame)\n",
        "        col (str): name of column with data values\n",
        "    Returns:\n",
        "        pd.DataFrame:\n",
        "            Same structure as input df but with the monthly means removed\n",
        "    \"\"\"\n",
        "    return pd.DataFrame({col: df[col] - df[col].groupby(df.index.month).transform('mean') + df[col].mean()})\n",
        "\n",
        "# Remove monthly means and get trend\n",
        "allmonths_area_rmm = remove_monthly_mean(allmonths_area, 'area')\n",
        "df_trend_all_rmm = get_trend(allmonths_area_rmm)"
      ],
      "metadata": {
        "id": "qqdL1BPxiUo8"
      },
      "execution_count": null,
      "outputs": []
    },
    {
      "cell_type": "markdown",
      "source": [
        "Plot the trend lines and their corresponding data points:"
      ],
      "metadata": {
        "id": "A-221RU6ujwd"
      }
    },
    {
      "cell_type": "code",
      "source": [
        "# Initialize plots\n",
        "fig, axs = plt.subplots(2, 3, sharex=True, sharey=True, figsize=(6.4*2, 4.8*1.5))\n",
        "fig.supylabel(\"Surface water area (sq km)\")\n",
        "\n",
        "# Plot data points\n",
        "allmonths_area.rename({'area': 'All'}, axis=1).plot(ax=axs[0, 2], color = 'purple', marker='o', markerfacecolor='None', linestyle='None')\n",
        "djf_area.rename({'area': 'DJF'}, axis=1).plot(ax=axs[0, 0], color = 'red', marker='o', markerfacecolor='None', linestyle='None')\n",
        "mam_area.rename({'area': 'MAM'}, axis=1).plot(ax=axs[0, 1], color = 'orange', marker='o', markerfacecolor='None', linestyle='None')\n",
        "jja_area.rename({'area': 'JJA'}, axis=1).plot(ax=axs[1, 0], color = 'green', marker='o', markerfacecolor='None', linestyle='None')\n",
        "son_area.rename({'area': 'SON'}, axis=1).plot(ax=axs[1, 1], color = 'blue', marker='o', markerfacecolor='None', linestyle='None')\n",
        "\n",
        "# Plot trend lines\n",
        "df_trend_all.rename({'area': 'Trend'}, axis=1).plot(ax=axs[0, 2], color='purple', linestyle='--')\n",
        "df_trend_djf.rename({'area': 'Trend'}, axis=1).plot(ax=axs[0, 0], color='red', linestyle='--')\n",
        "df_trend_mam.rename({'area': 'Trend'}, axis=1).plot(ax=axs[0, 1], color='orange', linestyle='--')\n",
        "df_trend_jja.rename({'area': 'Trend'}, axis=1).plot(ax=axs[1, 0], color='green', linestyle='--')\n",
        "df_trend_son.rename({'area': 'Trend'}, axis=1).plot(ax=axs[1, 1], color='blue', linestyle='--')\n",
        "\n",
        "\n",
        "# Add plots for all data (and trends) with monthly means removed\n",
        "allmonths_area_rmm.rename({'area': 'All_RMM'}, axis=1).plot(ax=axs[1, 2], color = 'black', marker='o', markerfacecolor='None', linestyle='None')\n",
        "df_trend_all_rmm.rename({'area': 'Trend'}, axis=1).plot(ax=axs[1, 2], color='black', linestyle='--')\n",
        "\n",
        "# Make x-axis dates readable\n",
        "plt.gcf().autofmt_xdate()"
      ],
      "metadata": {
        "id": "ruH-Co1Pd8L9"
      },
      "execution_count": null,
      "outputs": []
    },
    {
      "cell_type": "markdown",
      "source": [
        "> *Reflection questions*:\n",
        "- Do you think the trends we found here are significant? Why or why not?\n",
        "- If so, what factors might have caused them?\n",
        "- Do you find them surprising?\n",
        "\n",
        "# Closing remarks\n",
        "In this tutorial, we used a monthly surface water dataset to identify seasonal patterns and linear trends in surface water area over a nine year period. We emphasize that this kind of analysis is a starting point, not a definitive answer, for characterizing water resources.\n",
        "\n",
        "We saw that satellite remote sensing data has many limitations to be cautious of, namely:\n",
        "\n",
        "1. Low data coverage in early satelitte missions,\n",
        "2. Limitations to spatial coverage depending on the type and orbital path of a satellite,\n",
        "3. Indirect nature of satellite measurements (they are always derived from raw signals using imperfect models).\n",
        "\n",
        "While outside the scope of this tutorial, note that the methods commonly used in statistics to test for the significance (and uncertainty) of a result are crucial for drawing reasonable conclusions from remote sensing datasets."
      ],
      "metadata": {
        "id": "JcDuPF10_fry"
      }
    }
  ]
}
