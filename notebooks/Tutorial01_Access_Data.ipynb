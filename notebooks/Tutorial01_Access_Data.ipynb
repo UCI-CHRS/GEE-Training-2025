{
  "cells": [
    {
      "cell_type": "markdown",
      "metadata": {
        "id": "view-in-github",
        "colab_type": "text"
      },
      "source": [
        "<a href=\"https://colab.research.google.com/github/UCI-CHRS/GEE-Training-2025/blob/main/notebooks/Tutorial01_Access_Data.ipynb\" target=\"_parent\"><img src=\"https://colab.research.google.com/assets/colab-badge.svg\" alt=\"Open In Colab\"/></a>"
      ]
    },
    {
      "cell_type": "markdown",
      "metadata": {
        "id": "hLue1G4l4U9V"
      },
      "source": [
        "<center>\n",
        "\n",
        "## **Remote Sensing Datasets: Access and Download for Area of Interest**  \n",
        "### **PEER2PEER GEE Training**  \n",
        "**Developed by:** Muhammad Umar Akbar<sup>1</sup>, Annika Hjelmstad<sup>2</sup>, Debora Yumi de Oliveira<sup>2,3</sup>, Kasra Khodkar<sup>1</sup>  \n",
        "**Affiliation:** <sup>1</sup>Department of Biosystems and Agricultural Engineering, Oklahoma State University, OK, USA  \n",
        "<sup>2</sup>Department of Civil and Environmental Engineering, University of California at Irvine, Irvine, California, USA\n",
        "<sup>3</sup>Mackenzie Presbyterian University, São Paulo, Brazil\n",
        "\n",
        "</center>\n",
        "\n",
        "---\n",
        "\n",
        "## **Introduction**\n",
        "\n",
        "Welcome to this Google Earth Engine (GEE) training notebook! In this guide, we will walk you through the process of accessing, visualizing, and downloading various remote sensing datasets available in the Google Earth Engine Data Catalog.\n",
        "\n",
        "Remote sensing provides valuable insights into environmental and agricultural monitoring, hydrology, climate studies, and land management. This notebook will cover key datasets, including:\n",
        "\n",
        "1. Elevation (Digital Elevation Models, DEMs)  \n",
        "2. Land Use Land Cover (LULC)  \n",
        "3. Precipitation\n",
        "4. Temperature (Land Surface Temperature)  \n",
        "5. Soil Moisture\n",
        "---"
      ]
    },
    {
      "cell_type": "markdown",
      "source": [
        "First, we need to import the Python modules we will use:"
      ],
      "metadata": {
        "id": "lN4xH7LAKZor"
      }
    },
    {
      "cell_type": "code",
      "execution_count": null,
      "metadata": {
        "id": "7CmIdsf_4O2N"
      },
      "outputs": [],
      "source": [
        "# Import necessary Python modules\n",
        "import ee       # ee provides functions for sending requests to the GEE servers\n",
        "import geemap   # geemap is for mapping ee objects"
      ]
    },
    {
      "cell_type": "markdown",
      "source": [
        "Next, we need to authenticate and initialize with the Google Cloud project we created previously."
      ],
      "metadata": {
        "id": "qIGPbJwlKcet"
      }
    },
    {
      "cell_type": "code",
      "execution_count": null,
      "metadata": {
        "id": "52PEzIzV6bSf"
      },
      "outputs": [],
      "source": [
        "# Authenticate and initialize with your google cloud project\n",
        "ee.Authenticate()\n",
        "ee.Initialize(project='annikas-tutorial') # replace the project ID with yours"
      ]
    },
    {
      "cell_type": "markdown",
      "metadata": {
        "id": "8SxMV8zHPex-"
      },
      "source": [
        "<table>\n",
        "  <tr>\n",
        "    <td><img src=\"https://drive.google.com/uc?id=1ohsAbSz21MdnZm0t688q4QYCeHt71H5B\" width=\"300\"></td>\n",
        "    <td><img src=\"https://drive.google.com/uc?id=1ysOPRUQd-2x1uPa6WZZu3Ymxsm8eozag\" width=\"300\"></td>\n",
        "  </tr>\n",
        "  <tr>\n",
        "    <td><img src=\"https://drive.google.com/uc?id=1k-LHDBaFx2NMKVczqjEfRv1-9pvphncF\" width=\"300\"></td>\n",
        "    <td><img src=\"https://drive.google.com/uc?id=1GfFSv5hJDeW1dxMWqTLkoEN8tdQf3AI_\" width=\"300\"></td>\n",
        "  </tr>\n",
        "</table>\n"
      ]
    },
    {
      "cell_type": "markdown",
      "source": [
        "Now we're ready to read in the data. Let's define our area of interest (AOI)."
      ],
      "metadata": {
        "id": "pGvhzkPnKVXA"
      }
    },
    {
      "cell_type": "code",
      "source": [
        "# Get Tanzania country boundary\n",
        "tanzania = ee.FeatureCollection(\"UN/Geodata/BNDA_simplified/current\").filter('iso2cd == \"TZ\"')\n",
        "\n",
        "# Define a rectangle AOI in Tanzania\n",
        "aoi = ee.Geometry.Rectangle([33.0, -4.5, 34.5, -3.0])  # Adjust coordinates as needed\n",
        "\n",
        "# Create interactive map and display AOI\n",
        "Map = geemap.Map()\n",
        "Map.centerObject(tanzania,6)\n",
        "Map.addLayer(tanzania, {'color': '808080'}, 'Tanzania')\n",
        "Map.addLayer(aoi, {'color': 'ff0000'}, 'AOI')\n",
        "Map"
      ],
      "metadata": {
        "id": "QUUxQluJKzET"
      },
      "execution_count": null,
      "outputs": []
    },
    {
      "cell_type": "markdown",
      "metadata": {
        "id": "jvAqdB6JBPOu"
      },
      "source": [
        "## **1. Elevation**\n",
        "\n",
        "For this tutorial, we will explore the [NASA SRTM Digital Elevation Model (30m)](https://developers.google.com/earth-engine/datasets/catalog/USGS_SRTMGL1_003) dataset.\n",
        "\n",
        "The Shuttle Radar Topography Mission (SRTM) digital elevation data is an international research effort that obtained digital elevation models on a near-global scale. This SRTM V3 product (SRTM Plus) is provided by NASA JPL at a resolution of 1 arc-second (approximately 30 m).\n",
        "\n",
        "This dataset has undergone a void-filling process using open-source data sources such as ASTER GDEM2, GMTED2010, and NED, as opposed to other versions that contain voids or have been filled with commercial sources.\n",
        "\n",
        "Earth Engine Snippet: `ee.Image(\"USGS/SRTMGL1_003\")`"
      ]
    },
    {
      "cell_type": "markdown",
      "metadata": {
        "id": "zv1ocP8uComR"
      },
      "source": [
        "<img src=\"https://drive.google.com/uc?id=1fpNNh78IcIVp_jk4Ptk2HHRxJG4dnMWh\" width=\"500\">\n"
      ]
    },
    {
      "cell_type": "code",
      "source": [
        "# Load the SRTM 30m DEM\n",
        "dem = ee.Image(\"USGS/SRTMGL1_003\")\n",
        "\n",
        "# Clip the dataset to AOI\n",
        "dem_aoi = dem.clip(aoi)"
      ],
      "metadata": {
        "id": "UL9qGYXHVYJr"
      },
      "execution_count": null,
      "outputs": []
    },
    {
      "cell_type": "code",
      "execution_count": null,
      "metadata": {
        "id": "2O2Zq4AV7IsZ"
      },
      "outputs": [],
      "source": [
        "# Visualization parameters\n",
        "vis_params = {\n",
        "    'min': 1000,\n",
        "    'max': 1600,\n",
        "    'palette': ['white', 'green', 'brown']\n",
        "}\n",
        "\n",
        "# Create interactive map and display DEM\n",
        "Map1 = geemap.Map()\n",
        "Map1.centerObject(aoi, 9)\n",
        "Map1.addLayer(dem_aoi, vis_params, 'SRTM Elevation')\n",
        "\n",
        "# Add legend to the map (categorical)\n",
        "legend_dict = {\n",
        "    \"Low (1000m)\": \"ffffff\",\n",
        "    \"Medium (~1300m)\": \"008000\",\n",
        "    \"High (1600m+)\": \"8b4513\"\n",
        "}\n",
        "\n",
        "# Generate and attach legend\n",
        "Map1.add_legend(\n",
        "    title=\"SRTM Elevation\",\n",
        "    legend_dict=legend_dict,\n",
        "    draggable=False,\n",
        "    output=\"srtm_legend.html\",\n",
        ")\n",
        "\n",
        "# Display the map\n",
        "Map1"
      ]
    },
    {
      "cell_type": "markdown",
      "metadata": {
        "id": "3g7_lE50EjPh"
      },
      "source": [
        "## **2. Land Use Land Cover (LULC)**\n",
        "\n",
        "Land Use Land Cover (LULC) refers to the physical characteristics of the Earth's surface (land cover) and how humans utilize that surface (land use). For this tutorial, we will explore the [ESA WorldCover 10m Land Cover Map](https://developers.google.com/earth-engine/datasets/catalog/ESA_WorldCover_v200) dataset.\n",
        "\n",
        "The European Space Agency (ESA) WorldCover 10 m 2021 product provides a global land cover map at a high spatial resolution of 10 meters, derived from Sentinel-1 and Sentinel-2 satellite data. This dataset includes 11 distinct land cover classes and was developed as part of the [ESA WorldCover](https://esa-worldcover.org/en) project, under the 5th Earth Observation Envelope Programme (EOEP-5).\n",
        "\n",
        "The WorldCover 2021 v200 version delivers improved classification and thematic detail, achieving an overall accuracy of 76.7%. This product is especially valuable for applications in environmental monitoring, land use planning, and ecosystem assessment on both global and regional scales.\n",
        "\n",
        "Earth Engine Snippet: `ee.ImageCollection(\"ESA/WorldCover/v200\")`"
      ]
    },
    {
      "cell_type": "markdown",
      "metadata": {
        "id": "zD8V3FD-M3Fk"
      },
      "source": [
        "<img src=\"https://drive.google.com/uc?id=12eDvp9crju4oVCXMH9ODMTrbTV3l4UFp\" width=\"500\">"
      ]
    },
    {
      "cell_type": "code",
      "execution_count": null,
      "metadata": {
        "id": "PUZ9XJsWDjVJ"
      },
      "outputs": [],
      "source": [
        "# Load the ESA WorldCover v200 dataset and get the first image\n",
        "land_cover = ee.ImageCollection('ESA/WorldCover/v200').first()\n",
        "\n",
        "# Clip the dataset to AOI\n",
        "land_cover_aoi = land_cover.clip(aoi)"
      ]
    },
    {
      "cell_type": "code",
      "execution_count": null,
      "metadata": {
        "id": "cQkbyYiAMc2C"
      },
      "outputs": [],
      "source": [
        "# Define visualization parameters\n",
        "vis_params = {'bands': ['Map']}\n",
        "\n",
        "# Create and display the map\n",
        "Map2 = geemap.Map()\n",
        "Map2.centerObject(aoi, 9)\n",
        "Map2.addLayer(land_cover_aoi, vis_params, 'ESA WorldCover v200')\n",
        "\n",
        "# Add the built-in legend to the map\n",
        "Map2.add_legend(\n",
        "    title=\"ESA Land Cover Type\",\n",
        "    builtin_legend=\"ESA_WorldCover\",\n",
        "    draggable=False,\n",
        "    position=\"bottomleft\",\n",
        "    style={\"bottom\": \"5px\"},\n",
        ")\n",
        "\n",
        "# Display the map\n",
        "Map2"
      ]
    },
    {
      "cell_type": "markdown",
      "source": [
        "## **3. Precipitation**\n",
        "\n",
        "For this tutorial, we will explore two precipitation datasets:\n",
        "\n",
        "* [PERSIANN-CDR](https://developers.google.com/earth-engine/datasets/catalog/NOAA_PERSIANN-CDR)\n",
        "* [CHIRPS: Rainfall Estimates from Rain Gauge and Satellite Observations](https://developers.google.com/earth-engine/datasets/catalog/UCSB-CHG_CHIRPS_DAILY)\n",
        "\n"
      ],
      "metadata": {
        "id": "4ldHqKPoDLPh"
      }
    },
    {
      "cell_type": "markdown",
      "source": [
        "### **PERSIANN-CDR**\n",
        "\n",
        "PERSIANN-CDR is a daily quasi-global precipitation product that spans the period from 1983-01-01 to present. The data is produced quarterly, with a typical lag of three months. The product is developed by the Center for Hydrometeorology and Remote Sensing at the University of California, Irvine ([UC-IRVINE/CHRS](https://chrs.web.uci.edu/)).\n",
        "\n",
        "Earth Engine Snippet: `ee.ImageCollection(\"NOAA/PERSIANN-CDR\")`"
      ],
      "metadata": {
        "id": "iosOH07Eb0ys"
      }
    },
    {
      "cell_type": "markdown",
      "source": [
        "<img src=\"https://drive.google.com/uc?export=download&id=1wN4xDYPuNx-_9uW8WJMUgH9Dd9COykTF\" width=\"700\">"
      ],
      "metadata": {
        "id": "JHbIyl9weI3t"
      }
    },
    {
      "cell_type": "markdown",
      "metadata": {
        "id": "VHSzTR_1adpA"
      },
      "source": [
        "### **CHIRPS: Rainfall Estimates from Rain Gauge and Satellite Observations**\n",
        "\n",
        "The Climate Hazards Group InfraRed Precipitation with Station data (CHIRPS) is a long-term, high-resolution rainfall dataset developed to support drought early warning and climate monitoring efforts. Covering the region from 50°S to 50°N globally and extending from 1981 to the near-present, CHIRPS blends multiple data sources including satellite-based infrared imagery, in-situ rain gauge observations, and a high-resolution climatology known as CHPclim.\n",
        "\n",
        "With a spatial resolution of 0.05° (~5 km), CHIRPS provides gridded rainfall time series ideal for trend analysis, drought assessment, and seasonal forecasting. The dataset was developed in collaboration with the USGS Earth Resources Observation and Science (EROS) Center, aiming to provide consistent, reliable, and near-real-time precipitation data for regions with limited ground-based observations.\n",
        "\n",
        "Earth Engine Snippet: `ee.ImageCollection(\"UCSB-CHG/CHIRPS/DAILY\")`\n"
      ]
    },
    {
      "cell_type": "markdown",
      "metadata": {
        "id": "zWc5aMFab0GJ"
      },
      "source": [
        "<img src=\"https://drive.google.com/uc?id=1xQI77ShzdPIRk6AdigkNXjT3QdjdoExn\" width=\"700\">"
      ]
    },
    {
      "cell_type": "code",
      "source": [
        "# Load PERSIANN-CDR daily data and filter for the year 2018\n",
        "persiann = ee.ImageCollection('NOAA/PERSIANN-CDR') \\\n",
        "    .filterDate('2018-01-01', '2018-12-31')\n",
        "\n",
        "# Load CHIRPS daily data and filter for the year 2018\n",
        "chirps = ee.ImageCollection('UCSB-CHG/CHIRPS/DAILY') \\\n",
        "    .filterDate('2018-01-01', '2018-12-31')"
      ],
      "metadata": {
        "id": "p9SJLFjOC8Bk"
      },
      "execution_count": null,
      "outputs": []
    },
    {
      "cell_type": "markdown",
      "source": [
        "Let's see what's in the image collection. (Click on the dropdown arrows after running the following cell.)"
      ],
      "metadata": {
        "id": "VGMdvBiAVLP4"
      }
    },
    {
      "cell_type": "code",
      "source": [
        "persiann # this will print out information about the variable"
      ],
      "metadata": {
        "id": "dlIvq_T9VJ6N"
      },
      "execution_count": null,
      "outputs": []
    },
    {
      "cell_type": "code",
      "source": [
        "chirps # this will print out information about the variable"
      ],
      "metadata": {
        "id": "THXfq6SqlriT"
      },
      "execution_count": null,
      "outputs": []
    },
    {
      "cell_type": "code",
      "execution_count": null,
      "metadata": {
        "id": "ez4J2AJ0Mjpx"
      },
      "outputs": [],
      "source": [
        "# Select the precipitation band, sum over the year, and clip to AOI\n",
        "yearly_precip_persiann = persiann.select('precipitation').sum().clip(aoi)\n",
        "yearly_precip_chirps = chirps.select('precipitation').sum().clip(aoi)"
      ]
    },
    {
      "cell_type": "code",
      "source": [
        "# Visualization parameters\n",
        "vis_params = {\n",
        "    'min': 600,\n",
        "    'max': 1200,\n",
        "    'palette': 'Blues',\n",
        "}\n",
        "\n",
        "# Create map and add layer\n",
        "Map3 = geemap.Map()\n",
        "Map3.centerObject(aoi, 9)\n",
        "Map3.addLayer(yearly_precip_persiann, vis_params, 'PERSIANN Yearly Rainfall (2018)')\n",
        "Map3.addLayer(yearly_precip_chirps, vis_params, 'CHIRPS Yearly Rainfall (2018)')\n",
        "\n",
        "# Add a vertical colorbar legend to the map\n",
        "Map3.add_colorbar(\n",
        "    vis_params,\n",
        "    label=\"Precipitation (mm)\",\n",
        "    layer_name=\"Yearly Rainfall\",\n",
        "    orientation=\"vertical\",\n",
        "    position=\"bottomleft\",\n",
        "    transparent_bg=True,\n",
        ")\n",
        "\n",
        "# Display the map\n",
        "Map3"
      ],
      "metadata": {
        "id": "3lluvb0ODVvI"
      },
      "execution_count": null,
      "outputs": []
    },
    {
      "cell_type": "markdown",
      "metadata": {
        "id": "N7jOJtPigmFa"
      },
      "source": [
        "## **4. Temperature**\n",
        "\n",
        "For this tutorial, we will explore the [MODIS Land Surface Temperature and Emissivity (MOD11A1 V6.1)](https://developers.google.com/earth-engine/datasets/catalog/MODIS_061_MOD11A1) dataset.\n",
        "\n",
        "The MOD11A1 V6.1 product provides daily land surface temperature (LST) and emissivity data at a spatial resolution of 1 km, organized into a 1200 × 1200 km global grid. The LST values are derived from the MOD11_L2 swath product, which utilizes thermal infrared measurements from the MODIS instrument onboard NASA’s Terra satellite.\n",
        "\n",
        "In regions above 30° latitude, pixels may include multiple clear-sky observations within a day. When this occurs, the dataset returns the average value of all qualifying measurements for that pixel. The product includes both daytime and nighttime LST bands, their associated quality assurance layers, as well as MODIS thermal bands 31 and 32 and six observation layers that provide additional context on viewing geometry and cloud cover conditions.\n",
        "\n",
        "This dataset is useful for a wide range of applications including climate monitoring, evapotranspiration modeling, and land-atmosphere interaction studies.\n",
        "\n",
        "Earth Engine Snippet: `ee.ImageCollection(\"MODIS/061/MOD11A1\")`"
      ]
    },
    {
      "cell_type": "markdown",
      "metadata": {
        "id": "-xpFCB-uPeyt"
      },
      "source": [
        "<img src=\"https://drive.google.com/uc?id=14q5w1laScUSUrY-DGpNpDSVMVNC6vNFl\" width=\"700\">"
      ]
    },
    {
      "cell_type": "code",
      "execution_count": null,
      "metadata": {
        "id": "J61rcyrigjbQ"
      },
      "outputs": [],
      "source": [
        "# Load MODIS MOD11A1 V6.1 Land Surface Temperature dataset and filter by date\n",
        "lst = ee.ImageCollection('MODIS/061/MOD11A1') \\\n",
        "    .filterDate('2018-01-01', '2018-05-01')\n",
        "\n",
        "# Select the daytime LST band, calculate mean, apply scale factor, and clip to AOI\n",
        "lst_day = lst.select('LST_Day_1km').mean().multiply(0.02).clip(aoi)"
      ]
    },
    {
      "cell_type": "code",
      "execution_count": null,
      "metadata": {
        "id": "FD1GeHDGiF_Y"
      },
      "outputs": [],
      "source": [
        "# Visualization parameters\n",
        "vis_params = {\n",
        "    'min': 297.0,\n",
        "    'max': 312.0,\n",
        "    'palette': [\n",
        "        '040274', '040281', '0502a3', '0502b8', '0502ce', '0502e6',\n",
        "        '0602ff', '235cb1', '307ef3', '269db1', '30c8e2', '32d3ef',\n",
        "        '3be285', '3ff38f', '86e26f', '3ae237', 'b5e22e', 'd6e21f',\n",
        "        'fff705', 'ffd611', 'ffb613', 'ff8b13', 'ff6e08', 'ff500d',\n",
        "        'ff0000', 'de0101', 'c21301', 'a71001', '911003'\n",
        "    ]\n",
        "}\n",
        "\n",
        "# Create the interactive map\n",
        "Map4 = geemap.Map()\n",
        "Map4.centerObject(aoi, 9)\n",
        "Map4.addLayer(lst_day, vis_params, 'LST Daytime (MODIS) Jan–May 2018')\n",
        "\n",
        "# Add a vertical colorbar legend to the map\n",
        "Map4.add_colorbar(\n",
        "    vis_params,\n",
        "    label=\"Land Surface Temperature (K) \",\n",
        "    layer_name=\"LST\",\n",
        "    orientation=\"vertical\",\n",
        "    position=\"bottomleft\",\n",
        "    transparent_bg=True,\n",
        ")\n",
        "\n",
        "# Display the map\n",
        "Map4"
      ]
    },
    {
      "cell_type": "markdown",
      "metadata": {
        "id": "lvpeNfo3mfIB"
      },
      "source": [
        "## **5. Soil Moisture**\n",
        "\n",
        "For this tutorial, we will explore the [SMAP: Soil Moisture Active Passive Mission](https://developers.google.com/earth-engine/datasets/catalog/NASA_SMAP_SPL3SMP_E_005) dataset.\n",
        "\n",
        "The Soil Moisture Active Passive (SMAP) mission is a NASA satellite observatory designed to measure the amount of water in the top 5 cm of soil across the globe. Launched in January 2015 and operational since April 2015, SMAP provides vital data for understanding the water, energy, and carbon cycles. Although its radar instrument failed shortly after launch, the radiometer continues to deliver high-quality global soil moisture data.\n",
        "\n",
        "SMAP collects measurements every 2–3 days, enabling the detection of dynamic soil moisture changes driven by weather events, seasonal variation, and climatic shifts. These observations are crucial for applications such as agriculture, drought monitoring, flood forecasting, and climate modeling. The mission completed its prime 3-year phase in 2018 and continues to operate in an extended mission phase, providing an invaluable dataset for hydrological and environmental research.\n",
        "\n",
        "Earth Engine Snippet: `ee.ImageCollection(\"NASA/SMAP/SPL3SMP_E/005\")`"
      ]
    },
    {
      "cell_type": "markdown",
      "metadata": {
        "id": "yaOmEbN3m3bR"
      },
      "source": [
        "<img src=\"https://drive.google.com/uc?id=1xZ6gSdZAlZEthfVY2N-CsHv1ayDzS5es\" width=\"700\">"
      ]
    },
    {
      "cell_type": "code",
      "execution_count": null,
      "metadata": {
        "id": "2c52qfuBiVoJ"
      },
      "outputs": [],
      "source": [
        "# Load SMAP SPL3SMP_E dataset and filter by date\n",
        "soil_moisture = ee.ImageCollection('NASA/SMAP/SPL3SMP_E/005') \\\n",
        "    .filterDate('2017-04-01', '2017-04-30')\n",
        "\n",
        "# Select the AM surface soil moisture band, take mean, and clip to AOI\n",
        "soil_moisture_am = soil_moisture.select('soil_moisture_am').mean().clip(aoi)"
      ]
    },
    {
      "cell_type": "code",
      "execution_count": null,
      "metadata": {
        "id": "KCjjIb1XnIqZ"
      },
      "outputs": [],
      "source": [
        "# Visualization parameters\n",
        "vis_params = {\n",
        "    'min': 0.1,\n",
        "    'max': 0.3,\n",
        "    'palette': ['ff0303',  'efff07', '418504', '0300ff',]\n",
        "}\n",
        "\n",
        "# Create and display the map\n",
        "Map5 = geemap.Map()\n",
        "Map5.centerObject(aoi, 9)\n",
        "Map5.addLayer(soil_moisture_am, vis_params, 'SMAP Soil Moisture AM (Apr 2017)')\n",
        "\n",
        "# Add a vertical colorbar legend to the map\n",
        "Map5.add_colorbar(\n",
        "    vis_params,\n",
        "    label=\" Soil Moisture (%) \",\n",
        "    layer_name=\"Soil Moisture\",\n",
        "    orientation=\"vertical\",\n",
        "    position=\"bottomleft\",\n",
        "    transparent_bg=True,\n",
        ")\n",
        "\n",
        "# Display the map\n",
        "Map5"
      ]
    },
    {
      "cell_type": "markdown",
      "metadata": {
        "id": "NyMOwKc1p2BT"
      },
      "source": [
        "## **Downloading Datasets to Google Drive**\n",
        "\n",
        "After processing remote sensing datasets in **Google Earth Engine (GEE)**, you can export the results to **Google Drive** using the `Export.image.toDrive()` function in Python.\n",
        "\n",
        "This export function allows you to save a processed image (e.g., soil moisture, precipitation, elevation, or temperature) as a **GeoTIFF file**.\n",
        "\n",
        "Key parameters in the export function include:\n",
        "  - **`image`**: The Earth Engine image you want to export (e.g., mean soil moisture for April 2017).\n",
        "  - **`description`**: A name for the export task (used for monitoring).\n",
        "  - **`folder`**: The name of the folder in your **Google Drive** where the file will be saved.\n",
        "  - **`fileNamePrefix`**: The name for the output file.\n",
        "  - **`region`**: The area of interest (**AOI**) to clip the export to.\n",
        "  - **`scale`**: Spatial resolution of the export (should match the native resolution of the dataset).\n",
        "  - **`crs`**: Coordinate Reference System (e.g., `'EPSG:4326'` for geographic lat/lon).\n",
        "\n",
        "- Once these parameters are defined, you can start the export by calling `task.start()`.\n",
        "\n",
        "- The exported file will appear in your **Google Drive** under the specified folder once processing is complete.\n",
        "\n",
        "This method is useful for downloading processed datasets for offline analysis, creating maps in GIS software, or sharing with collaborators.\n",
        "\n"
      ]
    },
    {
      "cell_type": "code",
      "execution_count": null,
      "metadata": {
        "id": "E9aM1UShnZfJ"
      },
      "outputs": [],
      "source": [
        "# Export the image to your Google Drive\n",
        "task = ee.batch.Export.image.toDrive(\n",
        "    image=soil_moisture_am,\n",
        "    description='SMAP_SoilMoisture_Apr2017',\n",
        "    folder='EarthEngineExports',  # Your Drive folder name\n",
        "    fileNamePrefix='SMAP_SoilMoisture_Tanzania_Apr2017',\n",
        "    region=aoi,\n",
        "    scale=10000,  # SMAP native resolution ~10 km\n",
        "    crs='EPSG:4326',\n",
        "    maxPixels=1e13\n",
        ")\n",
        "\n",
        "# Start the export task\n",
        "task.start()\n",
        "\n",
        "print(\"Export started. Check Google Drive > EarthEngineExports folder.\")"
      ]
    },
    {
      "cell_type": "markdown",
      "metadata": {
        "id": "bXpxf-PnrppR"
      },
      "source": [
        "<img src=\"https://drive.google.com/uc?id=10ZA1_W3UZoz3ST6mMvDyiupUa9q2LjJS\" width=\"600\">"
      ]
    }
  ],
  "metadata": {
    "colab": {
      "provenance": [],
      "collapsed_sections": [
        "NyMOwKc1p2BT"
      ],
      "include_colab_link": true
    },
    "kernelspec": {
      "display_name": "Python 3 (ipykernel)",
      "language": "python",
      "name": "python3"
    },
    "language_info": {
      "codemirror_mode": {
        "name": "ipython",
        "version": 3
      },
      "file_extension": ".py",
      "mimetype": "text/x-python",
      "name": "python",
      "nbconvert_exporter": "python",
      "pygments_lexer": "ipython3",
      "version": "3.11.5"
    }
  },
  "nbformat": 4,
  "nbformat_minor": 0
}