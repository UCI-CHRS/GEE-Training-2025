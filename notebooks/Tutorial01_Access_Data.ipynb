{
  "cells": [
    {
      "cell_type": "markdown",
      "metadata": {
        "id": "view-in-github",
        "colab_type": "text"
      },
      "source": [
        "<a href=\"https://colab.research.google.com/github/UCI-CHRS/GEE-Training-2025/blob/main/notebooks/Tutorial01_Access_Data.ipynb\" target=\"_parent\"><img src=\"https://colab.research.google.com/assets/colab-badge.svg\" alt=\"Open In Colab\"/></a>"
      ]
    },
    {
      "cell_type": "markdown",
      "metadata": {
        "id": "hLue1G4l4U9V"
      },
      "source": [
        "<center>\n",
        "\n",
        "## **Remote Sensing Datasets: Access and Download for Area of Interest**  \n",
        "### **PEER2PEER GEE Training**  \n",
        "**Developed by:** Muhammad Umar Akbar<sup>1</sup>, Annika Hjelmstad<sup>2</sup>, Debora Yumi de Oliveira<sup>2,3</sup>, Kasra Khodkar<sup>1</sup>  \n",
        "**Affiliation:** <sup>1</sup>Department of Biosystems and Agricultural Engineering, Oklahoma State University, OK, USA  \n",
        "<sup>2</sup>Department of Civil and Environmental Engineering, University of California at Irvine, Irvine, California, USA\n",
        "<sup>3</sup>Mackenzie Presbyterian University, São Paulo, Brazil\n",
        "\n",
        "</center>\n",
        "\n",
        "---\n",
        "\n",
        "## **Introduction**\n",
        "\n",
        "Welcome to this Google Earth Engine (GEE) training notebook! In this guide, we will walk you through the process of accessing, visualizing, and downloading various remote sensing datasets available in the Google Earth Engine Data Catalog.\n",
        "\n",
        "Remote sensing provides valuable insights into environmental and agricultural monitoring, hydrology, climate studies, and land management. This notebook will cover key datasets, including:\n",
        "\n",
        "- **Elevation** (Digital Elevation Models - DEMs)  \n",
        "- **Land Use Land Cover** (LULC)  \n",
        "- **Precipitation** (Rainfall estimates)  \n",
        "- **Soil Moisture**  \n",
        "- **Temperature** (Land Surface Temperature)  \n",
        "- **Surface & Groundwater datasets**  \n",
        "\n",
        "---"
      ]
    },
    {
      "cell_type": "markdown",
      "metadata": {
        "id": "jSXcGyI967aY"
      },
      "source": [
        "## **1. Import necessary libraries**"
      ]
    },
    {
      "cell_type": "code",
      "execution_count": null,
      "metadata": {
        "id": "7CmIdsf_4O2N"
      },
      "outputs": [],
      "source": [
        "import ee\n",
        "import geemap"
      ]
    },
    {
      "cell_type": "markdown",
      "metadata": {
        "id": "pBOxBUF56gOm"
      },
      "source": [
        "## **2. Authenticate and initialize Earth Engine**"
      ]
    },
    {
      "cell_type": "code",
      "execution_count": null,
      "metadata": {
        "id": "52PEzIzV6bSf"
      },
      "outputs": [],
      "source": [
        "ee.Authenticate()\n",
        "ee.Initialize(project=\"annikas-tutoral\") # replace the project ID with yours"
      ]
    },
    {
      "cell_type": "markdown",
      "metadata": {
        "id": "8SxMV8zHPex-"
      },
      "source": [
        "<table>\n",
        "  <tr>\n",
        "    <td><img src=\"https://drive.google.com/uc?id=1ohsAbSz21MdnZm0t688q4QYCeHt71H5B\" width=\"300\"></td>\n",
        "    <td><img src=\"https://drive.google.com/uc?id=1ysOPRUQd-2x1uPa6WZZu3Ymxsm8eozag\" width=\"300\"></td>\n",
        "  </tr>\n",
        "  <tr>\n",
        "    <td><img src=\"https://drive.google.com/uc?id=1k-LHDBaFx2NMKVczqjEfRv1-9pvphncF\" width=\"300\"></td>\n",
        "    <td><img src=\"https://drive.google.com/uc?id=1GfFSv5hJDeW1dxMWqTLkoEN8tdQf3AI_\" width=\"300\"></td>\n",
        "  </tr>\n",
        "</table>\n"
      ]
    },
    {
      "cell_type": "markdown",
      "metadata": {
        "id": "jvAqdB6JBPOu"
      },
      "source": [
        "## **3. NASA SRTM Digital Elevation Model (30m)**\n",
        "\n",
        "The Shuttle Radar Topography Mission (SRTM, see Farr et al. 2007) digital elevation data is an international research effort that obtained digital elevation models on a near-global scale. This **SRTM V3 product (SRTM Plus)** is provided by **NASA JPL** at a resolution of **1 arc-second (approximately 30m)**.\n",
        "\n",
        "This dataset has undergone a **void-filling process** using open-source data sources such as **ASTER GDEM2, GMTED2010**, and **NED**, as opposed to other versions that contain voids or have been filled with commercial sources.\n",
        "\n",
        "---"
      ]
    },
    {
      "cell_type": "markdown",
      "metadata": {
        "id": "zv1ocP8uComR"
      },
      "source": [
        "<img src=\"https://drive.google.com/uc?id=1fpNNh78IcIVp_jk4Ptk2HHRxJG4dnMWh\" width=\"500\">\n"
      ]
    },
    {
      "cell_type": "code",
      "execution_count": null,
      "metadata": {
        "id": "2O2Zq4AV7IsZ"
      },
      "outputs": [],
      "source": [
        "# Load the SRTM 30m DEM\n",
        "dem = ee.Image(\"USGS/SRTMGL1_003\")\n",
        "\n",
        "# Define a rectangle AOI in Tanzania\n",
        "aoi = ee.Geometry.Rectangle([33.0, -4.5, 34.5, -3.0])  # Adjust coordinates as needed\n",
        "\n",
        "# Visualization parameters\n",
        "vis_params = {\n",
        "    'min': 1000,\n",
        "    'max': 1600,\n",
        "    'palette': ['white', 'green', 'brown']\n",
        "}\n",
        "\n"
      ]
    },
    {
      "cell_type": "code",
      "source": [
        "# Create interactive map and display DEM\n",
        "Map1 = geemap.Map()\n",
        "Map1.centerObject(aoi, 9)\n",
        "Map1.addLayer(dem.clip(aoi), vis_params, 'SRTM Elevation - Tanzania')\n",
        "\n",
        "# Add legend to the map\n",
        "legend_dict = {\n",
        "    \"Low (1000m)\": \"ffffff\",\n",
        "    \"Medium (~1300m)\": \"008000\",\n",
        "    \"High (1600m+)\": \"8b4513\"\n",
        "}\n",
        "\n",
        "# Generate and attach legend\n",
        "Map1.add_legend(\n",
        "    title=\"SRTM Elevation\",\n",
        "    legend_dict=legend_dict,\n",
        "    draggable=False,\n",
        "    output=\"srtm_legend.html\",\n",
        ")\n",
        "\n",
        "# Display the map\n",
        "Map1"
      ],
      "metadata": {
        "id": "yjIEtLcyQg7J"
      },
      "execution_count": null,
      "outputs": []
    },
    {
      "cell_type": "markdown",
      "metadata": {
        "id": "3g7_lE50EjPh"
      },
      "source": [
        "## **4. ESA WorldCover 10m Land Cover Map – 2021**\n",
        "\n",
        "The **European Space Agency (ESA) WorldCover 10 m 2021** product provides a global land cover map at a high spatial resolution of **10 meters**, derived from **Sentinel-1 and Sentinel-2** satellite data. This dataset includes **11 distinct land cover classes** and was developed as part of the **ESA WorldCover project**, under the **5th Earth Observation Envelope Programme (EOEP-5)**.\n",
        "\n",
        "The **WorldCover 2021 v200** version delivers improved classification and thematic detail, achieving an **overall accuracy of 76.7%**. This product is especially valuable for applications in environmental monitoring, land use planning, and ecosystem assessment on both global and regional scales.\n"
      ]
    },
    {
      "cell_type": "markdown",
      "metadata": {
        "id": "zD8V3FD-M3Fk"
      },
      "source": [
        "<img src=\"https://drive.google.com/uc?id=12eDvp9crju4oVCXMH9ODMTrbTV3l4UFp\" width=\"500\">"
      ]
    },
    {
      "cell_type": "code",
      "execution_count": null,
      "metadata": {
        "id": "PUZ9XJsWDjVJ"
      },
      "outputs": [],
      "source": [
        "# Load the ESA WorldCover v200 dataset and get the first image\n",
        "dataset = ee.ImageCollection('ESA/WorldCover/v200').first()\n",
        "\n",
        "# Clip the dataset to AOI\n",
        "dataset_clipped = dataset.clip(aoi)"
      ]
    },
    {
      "cell_type": "code",
      "execution_count": null,
      "metadata": {
        "id": "cQkbyYiAMc2C"
      },
      "outputs": [],
      "source": [
        "# Define visualization parameters\n",
        "visualization = { 'bands': ['Map']}\n",
        "\n",
        "# Create and display the map\n",
        "Map2 = geemap.Map()\n",
        "Map2.centerObject(aoi, 9)\n",
        "Map2.addLayer(dataset_clipped, visualization, 'ESA WorldCover v200 - Clipped')\n",
        "\n",
        "# Add the buil-in legend to the map\n",
        "Map2.add_legend(\n",
        "    title=\"ESA Land Cover Type\",\n",
        "    builtin_legend=\"ESA_WorldCover\",\n",
        "    draggable=False,\n",
        "    position=\"bottomleft\",\n",
        "    style={\"bottom\": \"5px\"},\n",
        ")\n",
        "\n",
        "#Display the Map\n",
        "Map2"
      ]
    },
    {
      "cell_type": "markdown",
      "metadata": {
        "id": "VHSzTR_1adpA"
      },
      "source": [
        "### **5. CHIRPS: Rainfall Estimates from Rain Gauge and Satellite Observations**\n",
        "\n",
        "The **Climate Hazards Group InfraRed Precipitation with Station data (CHIRPS)** is a long-term, high-resolution rainfall dataset developed to support drought early warning and climate monitoring efforts. Covering the region from **50°S to 50°N** globally and extending from **1981 to the near-present**, CHIRPS blends multiple data sources including satellite-based infrared imagery, in-situ rain gauge observations, and a high-resolution climatology known as **CHPclim**.\n",
        "\n",
        "With a spatial resolution of **0.05° (~5 km)**, CHIRPS provides gridded rainfall time series ideal for **trend analysis, drought assessment, and seasonal forecasting**. The dataset was developed in collaboration with the **USGS Earth Resources Observation and Science (EROS) Center**, aiming to provide consistent, reliable, and near-real-time precipitation data for regions with limited ground-based observations.\n"
      ]
    },
    {
      "cell_type": "markdown",
      "metadata": {
        "id": "zWc5aMFab0GJ"
      },
      "source": [
        "<img src=\"https://drive.google.com/uc?id=1xQI77ShzdPIRk6AdigkNXjT3QdjdoExn\" width=\"700\">"
      ]
    },
    {
      "cell_type": "code",
      "execution_count": null,
      "metadata": {
        "id": "ez4J2AJ0Mjpx"
      },
      "outputs": [],
      "source": [
        "# Load CHIRPS daily data and filter for the year 2018\n",
        "chirps = ee.ImageCollection('UCSB-CHG/CHIRPS/DAILY') \\\n",
        "    .filterDate('2018-01-01', '2018-12-31') \\\n",
        "    .filterBounds(aoi)\n",
        "\n",
        "# Select the precipitation band and sum over the year\n",
        "yearly_precip = chirps.select('precipitation').sum().clip(aoi)"
      ]
    },
    {
      "cell_type": "code",
      "execution_count": null,
      "metadata": {
        "id": "EupTv9yGc7mL"
      },
      "outputs": [],
      "source": [
        "# Visualization parameters\n",
        "precip_vis = {\n",
        "    'min': 650,\n",
        "    'max': 1400,\n",
        "    'palette': ['001137', '0aab1e', 'e7eb05', 'ff4a2d', 'e90000'],\n",
        "}\n",
        "\n",
        "# Create map and add layer\n",
        "Map3 = geemap.Map()\n",
        "Map3.centerObject(aoi, 9)\n",
        "Map3.addLayer(yearly_precip, precip_vis, 'CHIRPS Yearly Rainfall (2018)')\n",
        "\n",
        "# Add a vertical colorbar Legend to the map\n",
        "Map3.add_colorbar(\n",
        "    precip_vis,\n",
        "    label=\"Precipitation (mm)\",\n",
        "    layer_name=\"Yearly Rainfall\",\n",
        "    orientation=\"vertical\",\n",
        "    position=\"bottomleft\",\n",
        "    transparent_bg=True,\n",
        ")\n",
        "\n",
        "# Display the Map\n",
        "Map3"
      ]
    },
    {
      "cell_type": "markdown",
      "metadata": {
        "id": "N7jOJtPigmFa"
      },
      "source": [
        "### **6. MODIS Land Surface Temperature and Emissivity (MOD11A1 V6.1) – Daily Global 1km**\n",
        "\n",
        "The **MOD11A1 V6.1** product provides **daily land surface temperature (LST)** and **emissivity** data at a spatial resolution of **1 km**, organized into a 1200 × 1200 km global grid. The LST values are derived from the **MOD11_L2 swath product**, which utilizes thermal infrared measurements from the **MODIS instrument** onboard NASA’s Terra satellite.\n",
        "\n",
        "In regions above **30° latitude**, pixels may include **multiple clear-sky observations** within a day. When this occurs, the dataset returns the **average value** of all qualifying measurements for that pixel. The product includes both **daytime and nighttime LST bands**, their associated **quality assurance layers**, as well as **MODIS thermal bands 31 and 32** and **six observation layers** that provide additional context on viewing geometry and cloud cover conditions.\n",
        "\n",
        "This dataset is useful for a wide range of applications including climate monitoring, evapotranspiration modeling, and land-atmosphere interaction studies.\n"
      ]
    },
    {
      "cell_type": "markdown",
      "metadata": {
        "id": "-xpFCB-uPeyt"
      },
      "source": [
        "<img src=\"https://drive.google.com/uc?id=14q5w1laScUSUrY-DGpNpDSVMVNC6vNFl\" width=\"700\">"
      ]
    },
    {
      "cell_type": "code",
      "execution_count": null,
      "metadata": {
        "id": "J61rcyrigjbQ"
      },
      "outputs": [],
      "source": [
        "# Load MODIS MOD11A1 V6.1 Land Surface Temperature dataset\n",
        "dataset = ee.ImageCollection('MODIS/061/MOD11A1') \\\n",
        "    .filterDate('2018-01-01', '2018-05-01') \\\n",
        "    .filterBounds(aoi)\n",
        "\n",
        "# Select the daytime LST band, calculate mean, apply scale factor, and clip to AOI\n",
        "lst_day = dataset.select('LST_Day_1km').mean().multiply(0.02).clip(aoi)"
      ]
    },
    {
      "cell_type": "code",
      "execution_count": null,
      "metadata": {
        "id": "FD1GeHDGiF_Y"
      },
      "outputs": [],
      "source": [
        "# Visualization parameters\n",
        "lst_vis = {\n",
        "    'min': 297.0,\n",
        "    'max': 312.0,\n",
        "    'palette': [\n",
        "        '040274', '040281', '0502a3', '0502b8', '0502ce', '0502e6',\n",
        "        '0602ff', '235cb1', '307ef3', '269db1', '30c8e2', '32d3ef',\n",
        "        '3be285', '3ff38f', '86e26f', '3ae237', 'b5e22e', 'd6e21f',\n",
        "        'fff705', 'ffd611', 'ffb613', 'ff8b13', 'ff6e08', 'ff500d',\n",
        "        'ff0000', 'de0101', 'c21301', 'a71001', '911003'\n",
        "    ]\n",
        "}\n",
        "\n",
        "# Create the interactive map\n",
        "Map4 = geemap.Map()\n",
        "Map4.centerObject(aoi, 9)\n",
        "Map4.addLayer(lst_day, lst_vis, 'LST Daytime (MODIS) Jan–May 2018')\n",
        "\n",
        "# Add a vertical colorbar Legend to the map\n",
        "Map4.add_colorbar(\n",
        "    lst_vis,\n",
        "    label=\"Land Surface Temperature (K) \",\n",
        "    layer_name=\"LST\",\n",
        "    orientation=\"vertical\",\n",
        "    position=\"bottomleft\",\n",
        "    transparent_bg=True,\n",
        ")\n",
        "\n",
        "# Display the Map\n",
        "\n",
        "Map4"
      ]
    },
    {
      "cell_type": "markdown",
      "metadata": {
        "id": "lvpeNfo3mfIB"
      },
      "source": [
        "### **7. SMAP: Soil Moisture Active Passive Mission**\n",
        "\n",
        "The **Soil Moisture Active Passive (SMAP)** mission is a NASA satellite observatory designed to measure the amount of water in the top 5 cm of soil across the globe. Launched in **January 2015** and operational since **April 2015**, SMAP provides vital data for understanding the water, energy, and carbon cycles. Although its **radar instrument failed** shortly after launch, the **radiometer** continues to deliver high-quality global soil moisture data.\n",
        "\n",
        "SMAP collects measurements **every 2–3 days**, enabling the detection of dynamic soil moisture changes driven by weather events, seasonal variation, and climatic shifts. These observations are crucial for applications such as **agriculture, drought monitoring, flood forecasting**, and **climate modeling**. The mission completed its **prime 3-year phase in 2018** and continues to operate in an extended mission phase, providing an invaluable dataset for hydrological and environmental research.\n"
      ]
    },
    {
      "cell_type": "markdown",
      "metadata": {
        "id": "yaOmEbN3m3bR"
      },
      "source": [
        "<img src=\"https://drive.google.com/uc?id=1xZ6gSdZAlZEthfVY2N-CsHv1ayDzS5es\" width=\"700\">"
      ]
    },
    {
      "cell_type": "code",
      "execution_count": null,
      "metadata": {
        "id": "2c52qfuBiVoJ"
      },
      "outputs": [],
      "source": [
        "# Load SMAP SPL3SMP_E dataset and filter by date\n",
        "dataset = ee.ImageCollection('NASA/SMAP/SPL3SMP_E/005') \\\n",
        "    .filterDate('2017-04-01', '2017-04-30') \\\n",
        "    .filterBounds(aoi)\n",
        "\n",
        "# Select the AM surface soil moisture band and take mean\n",
        "soil_moisture_am = dataset.select('soil_moisture_am').mean().clip(aoi)"
      ]
    },
    {
      "cell_type": "code",
      "execution_count": null,
      "metadata": {
        "id": "KCjjIb1XnIqZ"
      },
      "outputs": [],
      "source": [
        "# Visualization parameters\n",
        "soil_moisture_vis = {\n",
        "    'min': 0.1,\n",
        "    'max': 0.3,\n",
        "    'palette': ['0300ff', '418504', 'efff07', 'efff07', 'ff0303']\n",
        "}\n",
        "\n",
        "# Create and display the map\n",
        "Map5 = geemap.Map()\n",
        "Map5.centerObject(aoi, 9)\n",
        "Map5.addLayer(soil_moisture_am, soil_moisture_vis, 'SMAP Soil Moisture AM (Apr 2017)')\n",
        "\n",
        "# Add a vertical colorbar Legend to the map\n",
        "Map5.add_colorbar(\n",
        "    soil_moisture_vis,\n",
        "    label=\" Soil Moisture (%) \",\n",
        "    layer_name=\"Soil Moisture\",\n",
        "    orientation=\"vertical\",\n",
        "    position=\"bottomleft\",\n",
        "    transparent_bg=True,\n",
        ")\n",
        "\n",
        "# Display the Map\n",
        "Map5"
      ]
    },
    {
      "cell_type": "markdown",
      "metadata": {
        "id": "NyMOwKc1p2BT"
      },
      "source": [
        "### **8. Downloading Datasets to Google Drive**\n",
        "\n",
        "### **Downloading Datasets to Google Drive**\n",
        "\n",
        "- After processing remote sensing datasets in **Google Earth Engine (GEE)**, you can export the results to **Google Drive** using the `Export.image.toDrive()` function in Python.\n",
        "\n",
        "This export function allows you to save a processed image (e.g., soil moisture, precipitation, elevation, or temperature) as a **GeoTIFF file**.\n",
        "\n",
        "Key parameters in the export function include:\n",
        "  - **`image`**: The Earth Engine image you want to export (e.g., mean soil moisture for April 2017).\n",
        "  - **`description`**: A name for the export task (used for monitoring).\n",
        "  - **`folder`**: The name of the folder in your **Google Drive** where the file will be saved.\n",
        "  - **`fileNamePrefix`**: The name for the output file.\n",
        "  - **`region`**: The area of interest (**AOI**) to clip the export to.\n",
        "  - **`scale`**: Spatial resolution of the export (should match the native resolution of the dataset).\n",
        "  - **`crs`**: Coordinate Reference System (e.g., `'EPSG:4326'` for geographic lat/lon).\n",
        "\n",
        "- Once these parameters are defined, you can start the export by calling `task.start()`.\n",
        "\n",
        "- The exported file will appear in your **Google Drive** under the specified folder once processing is complete.\n",
        "\n",
        "This method is useful for downloading processed datasets for offline analysis, creating maps in GIS software, or sharing with collaborators.\n",
        "\n"
      ]
    },
    {
      "cell_type": "code",
      "execution_count": null,
      "metadata": {
        "id": "E9aM1UShnZfJ"
      },
      "outputs": [],
      "source": [
        "# Export the image to your Google Drive\n",
        "task = ee.batch.Export.image.toDrive(\n",
        "    image=soil_moisture_am,\n",
        "    description='SMAP_SoilMoisture_Apr2017',\n",
        "    folder='EarthEngineExports',  # Your Drive folder name\n",
        "    fileNamePrefix='SMAP_SoilMoisture_Tanzania_Apr2017',\n",
        "    region=aoi,\n",
        "    scale=10000,  # SMAP native resolution ~10 km\n",
        "    crs='EPSG:4326',\n",
        "    maxPixels=1e13\n",
        ")\n",
        "\n",
        "# Start the export task\n",
        "task.start()\n",
        "\n",
        "print(\"Export started. Check Google Drive > EarthEngineExports folder.\")"
      ]
    },
    {
      "cell_type": "markdown",
      "metadata": {
        "id": "bXpxf-PnrppR"
      },
      "source": [
        "<img src=\"https://drive.google.com/uc?id=10ZA1_W3UZoz3ST6mMvDyiupUa9q2LjJS\" width=\"600\">"
      ]
    },
    {
      "cell_type": "code",
      "source": [],
      "metadata": {
        "id": "oa0VUcLZ6gPJ"
      },
      "execution_count": null,
      "outputs": []
    }
  ],
  "metadata": {
    "colab": {
      "provenance": [],
      "include_colab_link": true
    },
    "kernelspec": {
      "display_name": "Python 3 (ipykernel)",
      "language": "python",
      "name": "python3"
    },
    "language_info": {
      "codemirror_mode": {
        "name": "ipython",
        "version": 3
      },
      "file_extension": ".py",
      "mimetype": "text/x-python",
      "name": "python",
      "nbconvert_exporter": "python",
      "pygments_lexer": "ipython3",
      "version": "3.11.5"
    }
  },
  "nbformat": 4,
  "nbformat_minor": 0
}